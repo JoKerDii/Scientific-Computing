{
 "cells": [
  {
   "cell_type": "markdown",
   "metadata": {
    "id": "GZFqE5UeNTPv"
   },
   "source": [
    "# Convolutional Neural Networks (CNN)\n",
    "\n",
    "## Table of Contents\n",
    "\n",
    "1. Convolution\n",
    "    * 1D Convolution\n",
    "    * Properties\n",
    "    * 2D Convolution\n",
    "2. CNN Architecture\n",
    "3. The Convolution Module\n",
    "4. Code - CNN for MNIST Classification\n",
    "5. [Code - CNN for CIFAR-10 Classification](#fourth-bullet2)\n",
    "6. [Data Augmentation](#fifth-bullet)\n",
    "7. [Batch Normalization](#sixth-bullet)"
   ]
  },
  {
   "cell_type": "markdown",
   "metadata": {
    "id": "bYEY6J5VM8W2"
   },
   "source": [
    "# 5. Code - PyTorch CNN for CIFAR-10 Classification  <a class=\"anchor\" id=\"fourth-bullet2\"></a>\n",
    "\n",
    "* Step 1. Load in the data\n",
    "  * CIFAR-10: $32 \\times 32 \\times 3$ color.\n",
    "  * Labels: automobile, frog, horse, cat, dog, ...\n",
    "* Step 2. Build the model\n",
    "* Step 3. Train the model (more: data augmentation)\n",
    "* Step 4. Evaluate the moel\n",
    "* Step 5. Make predictions"
   ]
  },
  {
   "cell_type": "code",
   "execution_count": 1,
   "metadata": {
    "id": "KToG4s-8-sNQ"
   },
   "outputs": [],
   "source": [
    "import torch\n",
    "import torch.nn as nn\n",
    "import torch.nn.functional as F\n",
    "import torchvision\n",
    "import torchvision.transforms as transforms\n",
    "import numpy as np\n",
    "import matplotlib.pyplot as plt\n",
    "from datetime import datetime"
   ]
  },
  {
   "cell_type": "code",
   "execution_count": 2,
   "metadata": {
    "colab": {
     "base_uri": "https://localhost:8080/",
     "height": 100,
     "referenced_widgets": [
      "ae5dec4b53a74b17811bb50dfff72a6d",
      "c9110c8654d24488905f5d036fce7a1c",
      "e6aa2a7df0ef4286b1e07433d9465cf7",
      "ff4d4fb6f2af46ccb35831ca48416c68",
      "1f0cdfdd381f475ea1f5d2b543d97268",
      "984b9e756f7a421f87e33567176844fb",
      "f1d78c8b971b4286a492f6c050274d29",
      "52c7eda49bc2437ebd3371232ddd2d2a",
      "47b2fa59e27a4fbdacb5b70573c4b071",
      "82398bcdd8be4fcaae8c0d374b666ebd",
      "a738c8b7c9ef461daf7e9eb1f4eba54a"
     ]
    },
    "id": "L0j05VX--x3P",
    "outputId": "bc7cbfc7-5465-49bf-f53c-41611c60473c"
   },
   "outputs": [
    {
     "name": "stdout",
     "output_type": "stream",
     "text": [
      "Downloading https://www.cs.toronto.edu/~kriz/cifar-10-python.tar.gz to ./cifar-10-python.tar.gz\n"
     ]
    },
    {
     "data": {
      "application/vnd.jupyter.widget-view+json": {
       "model_id": "ae5dec4b53a74b17811bb50dfff72a6d",
       "version_major": 2,
       "version_minor": 0
      },
      "text/plain": [
       "  0%|          | 0/170498071 [00:00<?, ?it/s]"
      ]
     },
     "metadata": {},
     "output_type": "display_data"
    },
    {
     "name": "stdout",
     "output_type": "stream",
     "text": [
      "Extracting ./cifar-10-python.tar.gz to .\n",
      "Files already downloaded and verified\n"
     ]
    }
   ],
   "source": [
    "# Download datasets\n",
    "train_dataset = torchvision.datasets.CIFAR10(\n",
    "    root='.',\n",
    "    train=True,\n",
    "    transform=transforms.ToTensor(),\n",
    "    download=True)\n",
    "test_dataset = torchvision.datasets.CIFAR10(\n",
    "    root='.',\n",
    "    train=False,\n",
    "    transform=transforms.ToTensor(),\n",
    "    download=True)"
   ]
  },
  {
   "cell_type": "code",
   "execution_count": 3,
   "metadata": {
    "colab": {
     "base_uri": "https://localhost:8080/",
     "height": 901
    },
    "id": "-UhN3O81Kww0",
    "outputId": "88ad5564-5778-4a0b-a769-ed7d789d3e72"
   },
   "outputs": [
    {
     "data": {
      "text/plain": [
       "array([[[[ 59,  62,  63],\n",
       "         [ 43,  46,  45],\n",
       "         [ 50,  48,  43],\n",
       "         ...,\n",
       "         [158, 132, 108],\n",
       "         [152, 125, 102],\n",
       "         [148, 124, 103]],\n",
       "\n",
       "        [[ 16,  20,  20],\n",
       "         [  0,   0,   0],\n",
       "         [ 18,   8,   0],\n",
       "         ...,\n",
       "         [123,  88,  55],\n",
       "         [119,  83,  50],\n",
       "         [122,  87,  57]],\n",
       "\n",
       "        [[ 25,  24,  21],\n",
       "         [ 16,   7,   0],\n",
       "         [ 49,  27,   8],\n",
       "         ...,\n",
       "         [118,  84,  50],\n",
       "         [120,  84,  50],\n",
       "         [109,  73,  42]],\n",
       "\n",
       "        ...,\n",
       "\n",
       "        [[208, 170,  96],\n",
       "         [201, 153,  34],\n",
       "         [198, 161,  26],\n",
       "         ...,\n",
       "         [160, 133,  70],\n",
       "         [ 56,  31,   7],\n",
       "         [ 53,  34,  20]],\n",
       "\n",
       "        [[180, 139,  96],\n",
       "         [173, 123,  42],\n",
       "         [186, 144,  30],\n",
       "         ...,\n",
       "         [184, 148,  94],\n",
       "         [ 97,  62,  34],\n",
       "         [ 83,  53,  34]],\n",
       "\n",
       "        [[177, 144, 116],\n",
       "         [168, 129,  94],\n",
       "         [179, 142,  87],\n",
       "         ...,\n",
       "         [216, 184, 140],\n",
       "         [151, 118,  84],\n",
       "         [123,  92,  72]]]], dtype=uint8)"
      ]
     },
     "metadata": {},
     "output_type": "display_data"
    },
    {
     "data": {
      "text/plain": [
       "(50000, 32, 32, 3)"
      ]
     },
     "metadata": {},
     "output_type": "display_data"
    },
    {
     "data": {
      "text/plain": [
       "[6, 9, 9, 4, 1, 1, 2, 7, 8, 3]"
      ]
     },
     "metadata": {},
     "output_type": "display_data"
    },
    {
     "name": "stdout",
     "output_type": "stream",
     "text": [
      "Number of classes: 10\n"
     ]
    }
   ],
   "source": [
    "# Data: Numpy array\n",
    "display(train_dataset.data[:1])\n",
    "\n",
    "# Color images with 3 channels\n",
    "display(train_dataset.data.shape)\n",
    "\n",
    "# Targets: list\n",
    "display(train_dataset.targets[:10])\n",
    "\n",
    "# Number of classes\n",
    "K = len(set(train_dataset.targets))\n",
    "print(\"Number of classes:\", K)"
   ]
  },
  {
   "cell_type": "code",
   "execution_count": 4,
   "metadata": {
    "id": "W_lH3-1XLDS1"
   },
   "outputs": [],
   "source": [
    "# Data loader - automatically generates batches in the training loop and takes care of shuffling\n",
    "#             - maps the data to (0, 1) and moves the color channel before height/width\n",
    "batch_size = 128\n",
    "train_loader = torch.utils.data.DataLoader(dataset=train_dataset, \n",
    "                                           batch_size=batch_size, \n",
    "                                           shuffle=True)\n",
    "\n",
    "test_loader = torch.utils.data.DataLoader(dataset=test_dataset, \n",
    "                                          batch_size=batch_size, \n",
    "                                          shuffle=False)"
   ]
  },
  {
   "cell_type": "code",
   "execution_count": 5,
   "metadata": {
    "colab": {
     "base_uri": "https://localhost:8080/"
    },
    "id": "-w0OzdEgLQw4",
    "outputId": "cb76e834-a714-4f4b-9b4a-3bc787abd97d"
   },
   "outputs": [
    {
     "name": "stdout",
     "output_type": "stream",
     "text": [
      "tensor([[[0.3333, 0.4000, 0.4353,  ..., 0.6980, 0.7176, 0.5412],\n",
      "         [0.3255, 0.5020, 0.5725,  ..., 0.5882, 0.5333, 0.4275],\n",
      "         [0.3255, 0.4941, 0.5137,  ..., 0.4588, 0.4824, 0.3961],\n",
      "         ...,\n",
      "         [0.2627, 0.0980, 0.2039,  ..., 0.6157, 0.5529, 0.4863],\n",
      "         [0.3412, 0.0863, 0.2039,  ..., 0.6235, 0.6588, 0.5373],\n",
      "         [0.4392, 0.2039, 0.2667,  ..., 0.4745, 0.5412, 0.5098]],\n",
      "\n",
      "        [[0.5529, 0.5333, 0.5529,  ..., 0.7255, 0.7529, 0.6549],\n",
      "         [0.5373, 0.6000, 0.6392,  ..., 0.6392, 0.6118, 0.5451],\n",
      "         [0.5294, 0.6000, 0.6039,  ..., 0.5216, 0.5451, 0.5137],\n",
      "         ...,\n",
      "         [0.2078, 0.0314, 0.1490,  ..., 0.7647, 0.7216, 0.6627],\n",
      "         [0.2863, 0.0314, 0.1490,  ..., 0.7569, 0.8039, 0.6902],\n",
      "         [0.3843, 0.1529, 0.2118,  ..., 0.6078, 0.6863, 0.6627]],\n",
      "\n",
      "        [[0.7961, 0.7176, 0.7451,  ..., 0.7765, 0.8039, 0.7765],\n",
      "         [0.7176, 0.6824, 0.6941,  ..., 0.7137, 0.7020, 0.6745],\n",
      "         [0.7059, 0.6745, 0.6471,  ..., 0.6039, 0.6275, 0.6431],\n",
      "         ...,\n",
      "         [0.2118, 0.0392, 0.1490,  ..., 0.8941, 0.8745, 0.8235],\n",
      "         [0.2863, 0.0314, 0.1490,  ..., 0.8431, 0.9059, 0.8314],\n",
      "         [0.3843, 0.1529, 0.2118,  ..., 0.7216, 0.8039, 0.8196]]])\n",
      "torch.Size([128, 3, 32, 32])\n"
     ]
    }
   ],
   "source": [
    "# Have a look at the training batches\n",
    "for x, y in train_loader:\n",
    "    print(x[0])\n",
    "    print(x.shape)\n",
    "    break"
   ]
  },
  {
   "cell_type": "code",
   "execution_count": 6,
   "metadata": {
    "id": "bnBKf22eMTXw"
   },
   "outputs": [],
   "source": [
    "# Define the model (without nn.Sequential())\n",
    "class CNN(nn.Module):\n",
    "    def __init__(self, K):\n",
    "        super(CNN, self).__init__()\n",
    "\n",
    "        # Convolutional layers\n",
    "        self.conv1 = nn.Conv2d(3, 32, kernel_size=3, stride=2)\n",
    "        self.conv2 = nn.Conv2d(32, 64, kernel_size=3, stride=2)\n",
    "        self.conv3 = nn.Conv2d(64, 128, kernel_size=3, stride=2)\n",
    "\n",
    "        # Dense layers\n",
    "        self.fc1 = nn.Linear(128 * 3 * 3, 1024)\n",
    "        self.fc2 = nn.Linear(1024, K)\n",
    "\n",
    "    def forward(self, x):\n",
    "        x = F.relu(self.conv1(x))\n",
    "        x = F.relu(self.conv2(x))\n",
    "        x = F.relu(self.conv3(x))\n",
    "        x = x.view(-1, 128 * 3 * 3)\n",
    "        x = F.dropout(x, p=0.5)\n",
    "        x = F.relu(self.fc1(x))\n",
    "        x = F.dropout(x, p=0.2)\n",
    "        x = self.fc2(x)\n",
    "        return x\n"
   ]
  },
  {
   "cell_type": "code",
   "execution_count": 7,
   "metadata": {
    "id": "rfEtgeYZN3va"
   },
   "outputs": [],
   "source": [
    "# Instantiate the model\n",
    "model = CNN(K)"
   ]
  },
  {
   "cell_type": "code",
   "execution_count": 8,
   "metadata": {
    "colab": {
     "base_uri": "https://localhost:8080/"
    },
    "id": "AXzkttj0QIav",
    "outputId": "00e07808-864d-4fa9-c88e-56a1227e8f83"
   },
   "outputs": [
    {
     "name": "stdout",
     "output_type": "stream",
     "text": [
      "cpu\n"
     ]
    },
    {
     "data": {
      "text/plain": [
       "CNN(\n",
       "  (conv1): Conv2d(3, 32, kernel_size=(3, 3), stride=(2, 2))\n",
       "  (conv2): Conv2d(32, 64, kernel_size=(3, 3), stride=(2, 2))\n",
       "  (conv3): Conv2d(64, 128, kernel_size=(3, 3), stride=(2, 2))\n",
       "  (fc1): Linear(in_features=1152, out_features=1024, bias=True)\n",
       "  (fc2): Linear(in_features=1024, out_features=10, bias=True)\n",
       ")"
      ]
     },
     "execution_count": 8,
     "metadata": {},
     "output_type": "execute_result"
    }
   ],
   "source": [
    "# Move the model to the GPU\n",
    "device = torch.device(\"cuda:0\" if torch.cuda.is_available() else \"cpu\")\n",
    "print(device)\n",
    "model.to(device)"
   ]
  },
  {
   "cell_type": "code",
   "execution_count": 9,
   "metadata": {
    "id": "NVJ9VRunN5uJ"
   },
   "outputs": [],
   "source": [
    "# Loss and optimizer\n",
    "criterion = nn.CrossEntropyLoss()\n",
    "optimizer = torch.optim.Adam(model.parameters())"
   ]
  },
  {
   "cell_type": "code",
   "execution_count": 10,
   "metadata": {
    "id": "K_Ux13bnN87z"
   },
   "outputs": [],
   "source": [
    "# A function to encapsulate the training loop\n",
    "def training(model, criterion, optimizer, train_loader, test_loader, epochs):\n",
    "    train_losses = np.zeros(epochs)\n",
    "    test_losses = np.zeros(epochs)\n",
    "\n",
    "    for ep in range(epochs):\n",
    "        model.train()\n",
    "        t0 = datetime.now()\n",
    "        train_loss = []\n",
    "    for inputs, targets in train_loader:\n",
    "        # Move data to GPU\n",
    "        inputs, targets = inputs.to(device), targets.to(device)\n",
    "\n",
    "        # Zero the parameter gradients\n",
    "        optimizer.zero_grad()\n",
    "\n",
    "        # Forward pass\n",
    "        outputs = model(inputs)\n",
    "        loss = criterion(outputs, targets)\n",
    "\n",
    "        # Backward and optimize\n",
    "        loss.backward()\n",
    "        optimizer.step()\n",
    "\n",
    "        train_loss.append(loss.item())\n",
    "\n",
    "    # Get train loss and test loss\n",
    "    train_loss = np.mean(train_loss) \n",
    "    \n",
    "    model.eval()\n",
    "    test_loss = []\n",
    "    for inputs, targets in test_loader:\n",
    "        inputs, targets = inputs.to(device), targets.to(device)\n",
    "        outputs = model(inputs)\n",
    "        loss = criterion(outputs, targets)\n",
    "        test_loss.append(loss.item())\n",
    "    test_loss = np.mean(test_loss)\n",
    "\n",
    "    # Save losses\n",
    "    train_losses[ep] = train_loss\n",
    "    test_losses[ep] = test_loss\n",
    "    \n",
    "    dt = datetime.now() - t0\n",
    "    print(f'Epoch {ep+1}/{epochs}:\\n \\\n",
    "    Train Loss: {train_loss:.4f}, Test Loss: {test_loss:.4f}, Duration: {dt}')\n",
    "  \n",
    "  return train_losses, test_losses"
   ]
  },
  {
   "cell_type": "code",
   "execution_count": 11,
   "metadata": {
    "colab": {
     "base_uri": "https://localhost:8080/"
    },
    "id": "epDtnxdGOAwI",
    "outputId": "36e880a2-17c8-474d-f8f5-37736cbabf2d"
   },
   "outputs": [
    {
     "name": "stdout",
     "output_type": "stream",
     "text": [
      "Epoch 1/15:\n",
      "     Train Loss: 1.6851, Test Loss: 1.4458, Duration: 0:00:42.654787\n",
      "Epoch 2/15:\n",
      "     Train Loss: 1.3891, Test Loss: 1.3226, Duration: 0:00:43.291076\n",
      "Epoch 3/15:\n",
      "     Train Loss: 1.2723, Test Loss: 1.2242, Duration: 0:00:44.767531\n",
      "Epoch 4/15:\n",
      "     Train Loss: 1.1800, Test Loss: 1.1762, Duration: 0:00:44.525583\n",
      "Epoch 5/15:\n",
      "     Train Loss: 1.1020, Test Loss: 1.1452, Duration: 0:00:44.473624\n",
      "Epoch 6/15:\n",
      "     Train Loss: 1.0432, Test Loss: 1.0942, Duration: 0:00:44.408540\n",
      "Epoch 7/15:\n",
      "     Train Loss: 0.9892, Test Loss: 1.0805, Duration: 0:00:44.263446\n",
      "Epoch 8/15:\n",
      "     Train Loss: 0.9400, Test Loss: 1.0810, Duration: 0:00:44.721397\n",
      "Epoch 9/15:\n",
      "     Train Loss: 0.9003, Test Loss: 1.0244, Duration: 0:00:44.072025\n",
      "Epoch 10/15:\n",
      "     Train Loss: 0.8514, Test Loss: 1.0124, Duration: 0:00:44.280967\n",
      "Epoch 11/15:\n",
      "     Train Loss: 0.8238, Test Loss: 0.9932, Duration: 0:00:45.990161\n",
      "Epoch 12/15:\n",
      "     Train Loss: 0.7858, Test Loss: 1.0043, Duration: 0:00:44.625528\n",
      "Epoch 13/15:\n",
      "     Train Loss: 0.7579, Test Loss: 0.9953, Duration: 0:00:44.609210\n",
      "Epoch 14/15:\n",
      "     Train Loss: 0.7256, Test Loss: 0.9693, Duration: 0:00:44.479304\n",
      "Epoch 15/15:\n",
      "     Train Loss: 0.7014, Test Loss: 1.0011, Duration: 0:00:44.798428\n"
     ]
    }
   ],
   "source": [
    "train_losses, test_losses = training(\n",
    "    model, criterion, optimizer, train_loader, test_loader, epochs=15)"
   ]
  },
  {
   "cell_type": "code",
   "execution_count": 12,
   "metadata": {
    "colab": {
     "base_uri": "https://localhost:8080/",
     "height": 265
    },
    "id": "M0DUdF95Ov7C",
    "outputId": "95fe649c-e832-463e-ca33-070a0d53b4ce"
   },
   "outputs": [
    {
     "data": {
      "image/png": "[encoded data removed]",
      "text/plain": [
       "<Figure size 432x288 with 1 Axes>"
      ]
     },
     "metadata": {
      "needs_background": "light"
     },
     "output_type": "display_data"
    }
   ],
   "source": [
    "# Plot the train loss and test loss per iteration\n",
    "plt.plot(train_losses, label='train loss')\n",
    "plt.plot(test_losses, label='test loss')\n",
    "plt.legend()\n",
    "plt.show()"
   ]
  },
  {
   "cell_type": "code",
   "execution_count": 13,
   "metadata": {
    "id": "oh7qFf73Oxko"
   },
   "outputs": [],
   "source": [
    "# Train accuracy\n",
    "\n",
    "model.eval()\n",
    "n_correct = 0.\n",
    "n_total = 0.\n",
    "for inputs, targets in train_loader:\n",
    "    # Move to GPU\n",
    "    inputs, targets = inputs.to(device), targets.to(device)\n",
    "\n",
    "    # Forward pass\n",
    "    outputs = model(inputs)\n",
    "\n",
    "    # Get prediction\n",
    "    # torch.max returns both max and argmax\n",
    "    _, predictions = torch.max(outputs, 1)\n",
    "\n",
    "    # update counts\n",
    "    n_correct += (predictions == targets).sum().item()\n",
    "    n_total += targets.shape[0]\n",
    "\n",
    "train_acc = n_correct / n_total\n"
   ]
  },
  {
   "cell_type": "code",
   "execution_count": 14,
   "metadata": {
    "id": "tJ_d1cEPO0ej"
   },
   "outputs": [],
   "source": [
    "# Print and plot Confusion matrix\n",
    "from sklearn.metrics import confusion_matrix\n",
    "import itertools\n",
    "\n",
    "def plot_confusion_matrix(cm, classes,\n",
    "                          normalize=False,\n",
    "                          title='Confusion matrix',\n",
    "                          cmap=plt.cm.Blues):\n",
    "\n",
    "    if normalize:\n",
    "        cm = cm.astype('float') / cm.sum(axis=1)[:, np.newaxis]\n",
    "        print(\"Normalized confusion matrix\")\n",
    "    else:\n",
    "        print('Confusion matrix, without normalization')\n",
    "\n",
    "    print(cm)\n",
    "\n",
    "    fig, ax = plt.subplots(figsize=(18, 10))\n",
    "    plt.imshow(cm, interpolation='nearest', cmap=cmap)\n",
    "    plt.title(title, fontsize = 20)\n",
    "    plt.colorbar()\n",
    "    tick_marks = np.arange(len(classes))\n",
    "    plt.xticks(tick_marks, classes, fontsize = 18)\n",
    "    plt.yticks(tick_marks, classes, fontsize = 18)\n",
    "\n",
    "    fmt = '.2f' if normalize else 'd'\n",
    "    thresh = cm.max() / 2.\n",
    "    for i, j in itertools.product(range(cm.shape[0]), range(cm.shape[1])):\n",
    "        plt.text(j, i, format(cm[i, j], fmt),\n",
    "               horizontalalignment=\"center\",\n",
    "               color=\"white\" if cm[i, j] > thresh else \"black\",\n",
    "               fontsize = 14)\n",
    "\n",
    "    plt.tight_layout()\n",
    "    plt.ylabel('True label', fontsize = 18)\n",
    "    plt.xlabel('Predicted label', fontsize = 18)\n",
    "    plt.show()"
   ]
  },
  {
   "cell_type": "code",
   "execution_count": 15,
   "metadata": {
    "colab": {
     "base_uri": "https://localhost:8080/",
     "height": 955
    },
    "id": "_T5qifQLO2yT",
    "outputId": "1389d7dc-05cd-4775-ac66-1158bf03c970"
   },
   "outputs": [
    {
     "name": "stdout",
     "output_type": "stream",
     "text": [
      "Train acc: 0.7627, Test acc: 0.6636\n",
      "Confusion matrix, without normalization\n",
      "[[718  18  51  32  26  13  13  24  68  37]\n",
      " [ 23 698   9  23   4   7   9   5  42 180]\n",
      " [ 61   2 525 106  98  75  70  37  18   8]\n",
      " [ 16   8  62 543  61 150  72  57  12  19]\n",
      " [ 17   3  74  92 588  36  90  82   8  10]\n",
      " [ 14   3  50 242  48 537  26  63   8   9]\n",
      " [  6   2  35 101  28  29 760  19  11   9]\n",
      " [ 15   2  30  49  64  69  12 726   6  27]\n",
      " [ 76  32  18  27  18  10   9  16 767  27]\n",
      " [ 26  60  15  42   9   9  16  23  26 774]]\n"
     ]
    },
    {
     "data": {
      "image/png": "[encoded data removed]",
      "text/plain": [
       "<Figure size 1296x720 with 2 Axes>"
      ]
     },
     "metadata": {
      "needs_background": "light"
     },
     "output_type": "display_data"
    }
   ],
   "source": [
    "# Test accuracy\n",
    "\n",
    "model.eval()\n",
    "n_correct = 0.\n",
    "n_total = 0.\n",
    "x_test = test_dataset.data\n",
    "y_test = test_dataset.targets\n",
    "p_test = np.array([])\n",
    "for inputs, targets in test_loader:\n",
    "    # Move data to GPU\n",
    "    inputs, targets = inputs.to(device), targets.to(device)\n",
    "\n",
    "    # Forward pass\n",
    "    outputs = model(inputs)\n",
    "\n",
    "    # Get prediction\n",
    "    # torch.max returns both max and argmax\n",
    "    _, predictions = torch.max(outputs, 1)\n",
    "\n",
    "    # Update p_test\n",
    "    p_test = np.concatenate((p_test, predictions.cpu().numpy()))\n",
    "\n",
    "    # Update counts\n",
    "    n_correct += (predictions == targets).sum().item()\n",
    "    n_total += targets.shape[0]\n",
    "\n",
    "test_acc = n_correct / n_total\n",
    "print(f\"Train acc: {train_acc:.4f}, Test acc: {test_acc:.4f}\")\n",
    "\n",
    "cm = confusion_matrix(y_test, p_test)\n",
    "plot_confusion_matrix(cm, list(range(10)))"
   ]
  },
  {
   "cell_type": "code",
   "execution_count": 16,
   "metadata": {
    "id": "sqQcHpWUO7q8"
   },
   "outputs": [],
   "source": [
    "# Label mapping\n",
    "labels = '''airplane\n",
    "automobile\n",
    "bird\n",
    "cat\n",
    "deer\n",
    "dog\n",
    "frog\n",
    "horse\n",
    "ship\n",
    "truck'''.split()"
   ]
  },
  {
   "cell_type": "code",
   "execution_count": 17,
   "metadata": {
    "colab": {
     "base_uri": "https://localhost:8080/",
     "height": 281
    },
    "id": "x4htpDxeO99N",
    "outputId": "187aaa1b-2b7a-47b2-d40d-79519a15e760"
   },
   "outputs": [
    {
     "data": {
      "image/png": "[encoded data removed]",
      "text/plain": [
       "<Figure size 432x288 with 1 Axes>"
      ]
     },
     "metadata": {
      "needs_background": "light"
     },
     "output_type": "display_data"
    }
   ],
   "source": [
    "# Show some misclassified examples\n",
    "p_test = p_test.astype(np.uint8)\n",
    "misclassified_idx = np.where(p_test != y_test)[0]\n",
    "i = np.random.choice(misclassified_idx)\n",
    "plt.imshow(x_test[i].reshape(32,32,3))\n",
    "plt.title(f\"True label: {labels[y_test[i]]} Predicted: {labels[p_test[i]]}\");"
   ]
  },
  {
   "cell_type": "markdown",
   "metadata": {
    "id": "VaecJcjAdofv"
   },
   "source": [
    "# 6. Data Augmentation  <a class=\"anchor\" id=\"fifth-bullet\"></a>\n",
    "\n",
    "* Use Torch Vision API to rotate images:\n",
    "\n",
    "  Example: https://pytorch.org/docs/stable/torchvision/transforms.html\n",
    "\n",
    "  `transform = torchvision.transforms.Compose([\n",
    "  torchvision.transforms.ColorJitter( brightness=0.2, contrast = 0.2, saturation=0.2, hue=0.2),\n",
    "  torchvision.transforms.RandomHorizontalFlip(p=0.5),\n",
    "  torchvision.transforms.RandomRotation(degrees=15),\n",
    "  transforms.ToTensor()\n",
    "])`\n",
    "\n",
    "  `train_dataset = torchvision.datasets.CIFAR10(\n",
    "   root='.',\n",
    "   train=True,\n",
    "   transform=transform,\n",
    "   download=True)`\n",
    "* The data loader does not change. The training loop does not change:\n",
    "\n",
    "  `train_loader = torch.utils.data.DataLoader(dataset=train_dataset, batch_size = batch_size, shuffle=True)`\n",
    "* Do not augment the test set"
   ]
  },
  {
   "cell_type": "markdown",
   "metadata": {
    "id": "vHl6clLUi5yW"
   },
   "source": [
    "# 7. Batch Normalization  <a class=\"anchor\" id=\"sixth-bullet\"></a>\n",
    "\n",
    "* Steps of batch norm:\n",
    "  * Batch mean $\\mu_B$ and batch std $\\sigma_B$ are calculated for each batch.\n",
    "  * The data are standardized using batch mean and batch std: $z = (x-\\mu_B)/\\sigma_B$.\n",
    "  * The data are re-scaled by $\\gamma$ and re-located by $\\beta$ ($\\gamma$ and $\\beta$ are learned via the gradient descent): $y = z\\gamma + \\beta$.\n",
    "\n",
    "* Batch norm as regularization:\n",
    "  * Each batch gives different $\\mu_B$ and $\\sigma_B$. This is essentially noise, and using noise during training makes the neural network impervious to noise.\n",
    "\n",
    "* Batch norms are more commonly used after convolutional layers.\n",
    "  * E.g. conv -> BN -> conv -> BN -> conv -> BN -> Flatten -> Dense -> Dense\n",
    "\n"
   ]
  },
  {
   "cell_type": "code",
   "execution_count": 18,
   "metadata": {
    "colab": {
     "base_uri": "https://localhost:8080/"
    },
    "id": "Q_rkez6GnKHY",
    "outputId": "e46b39d3-bcc0-43a5-8dad-dd31576ae515"
   },
   "outputs": [
    {
     "name": "stdout",
     "output_type": "stream",
     "text": [
      "Files already downloaded and verified\n",
      "Files already downloaded and verified\n"
     ]
    }
   ],
   "source": [
    "# Data augmentation\n",
    "transformer_train = torchvision.transforms.Compose([\n",
    "  # torchvision.transforms.ColorJitter(\n",
    "  #     brightness=0.2, contrast=0.2, saturation=0.2, hue=0.2),\n",
    "  transforms.RandomCrop(32, padding=4),\n",
    "  torchvision.transforms.RandomHorizontalFlip(p=0.5),\n",
    "  # torchvision.transforms.RandomRotation(degrees=15),\n",
    "  torchvision.transforms.RandomAffine(0, translate=(0.1, 0.1)),\n",
    "  # torchvision.transforms.RandomPerspective(),\n",
    "  transforms.ToTensor(),                                            \n",
    "])\n",
    "\n",
    "train_dataset = torchvision.datasets.CIFAR10(\n",
    "    root='.',\n",
    "    train=True,\n",
    "    transform=transformer_train,\n",
    "    download=True)\n",
    "test_dataset = torchvision.datasets.CIFAR10(\n",
    "    root='.',\n",
    "    train=False,\n",
    "    transform=transforms.ToTensor(),\n",
    "    download=True)"
   ]
  },
  {
   "cell_type": "code",
   "execution_count": 19,
   "metadata": {
    "id": "8xvg1oCjnlHL"
   },
   "outputs": [],
   "source": [
    "# Data loader\n",
    "batch_size = 128\n",
    "train_loader = torch.utils.data.DataLoader(dataset=train_dataset, \n",
    "                                           batch_size=batch_size, \n",
    "                                           shuffle=True)\n",
    "\n",
    "test_loader = torch.utils.data.DataLoader(dataset=test_dataset, \n",
    "                                          batch_size=batch_size, \n",
    "                                          shuffle=False)"
   ]
  },
  {
   "cell_type": "code",
   "execution_count": 20,
   "metadata": {
    "colab": {
     "base_uri": "https://localhost:8080/"
    },
    "id": "FbDjYCg_n0ke",
    "outputId": "5bb97a89-222b-40a8-c951-a9edd22da569"
   },
   "outputs": [
    {
     "name": "stdout",
     "output_type": "stream",
     "text": [
      "Files already downloaded and verified\n"
     ]
    }
   ],
   "source": [
    "# Make one for testing\n",
    "train_dataset_fixed = torchvision.datasets.CIFAR10(\n",
    "    root='.',\n",
    "    train=True,\n",
    "    transform=transforms.ToTensor(),\n",
    "    download=True)\n",
    "train_loader_fixed = torch.utils.data.DataLoader(\n",
    "    dataset=train_dataset_fixed, \n",
    "    batch_size=batch_size, \n",
    "    shuffle=False)"
   ]
  },
  {
   "cell_type": "code",
   "execution_count": 21,
   "metadata": {
    "id": "FBB8B1s3oQGi"
   },
   "outputs": [],
   "source": [
    "# Define the model\n",
    "# 1. No strided convolutions because for small images, normal convolution followed by max pulling seems to work better.\n",
    "# 2. The idea of multiple convolutions before doing pooling comes from VGG.\n",
    "# 3. Using padding = 1 to achieve the same size of output image as the input images after convolution. This can be calculated by setting H_in = H_out.\n",
    "# 4. After each max pool, the size of image is divided by 2. 32 > 16 > 8 > 4\n",
    "\n",
    "\n",
    "class CNN(nn.Module):\n",
    "    def __init__(self, K):\n",
    "    super(CNN, self).__init__()\n",
    "\n",
    "    # Convolution layers\n",
    "    self.conv1 = nn.Sequential(\n",
    "        nn.Conv2d(3, 32, kernel_size=3, padding=1),\n",
    "        nn.ReLU(),\n",
    "        nn.BatchNorm2d(32),\n",
    "        nn.Conv2d(32, 32, kernel_size=3, padding=1),\n",
    "        nn.ReLU(),\n",
    "        nn.BatchNorm2d(32),\n",
    "        nn.MaxPool2d(2),\n",
    "    )\n",
    "    self.conv2 = nn.Sequential(\n",
    "        nn.Conv2d(32, 64, kernel_size=3, padding=1),\n",
    "        nn.ReLU(),\n",
    "        nn.BatchNorm2d(64),\n",
    "        nn.Conv2d(64, 64, kernel_size=3, padding=1),\n",
    "        nn.ReLU(),\n",
    "        nn.BatchNorm2d(64),\n",
    "        nn.MaxPool2d(2),\n",
    "    )\n",
    "    self.conv3 = nn.Sequential(\n",
    "        nn.Conv2d(64, 128, kernel_size=3, padding=1),\n",
    "        nn.ReLU(),\n",
    "        nn.BatchNorm2d(128),\n",
    "        nn.Conv2d(128, 128, kernel_size=3, padding=1),\n",
    "        nn.ReLU(),\n",
    "        nn.BatchNorm2d(128),\n",
    "        nn.MaxPool2d(2),\n",
    "    )\n",
    "\n",
    "    # Dense layers\n",
    "    self.fc1 = nn.Linear(128 * 4 * 4, 1024)\n",
    "    self.fc2 = nn.Linear(1024, K)\n",
    "  \n",
    "  def forward(self, x):\n",
    "    x = self.conv1(x)\n",
    "    x = self.conv2(x)\n",
    "    x = self.conv3(x)\n",
    "    x = x.view(x.size(0), -1)\n",
    "    x = F.dropout(x, p=0.5)\n",
    "    x = F.relu(self.fc1(x))\n",
    "    x = F.dropout(x, p=0.2)\n",
    "    x = self.fc2(x)\n",
    "    return x\n"
   ]
  },
  {
   "cell_type": "code",
   "execution_count": 22,
   "metadata": {
    "id": "GZ4lWSmWq9MB"
   },
   "outputs": [],
   "source": [
    "# Instantiate the model\n",
    "model = CNN(K)"
   ]
  },
  {
   "cell_type": "code",
   "execution_count": 23,
   "metadata": {
    "colab": {
     "base_uri": "https://localhost:8080/"
    },
    "id": "gk5Vg-f6rD8a",
    "outputId": "bfd27a23-54f9-4eeb-9414-f27214a3631f"
   },
   "outputs": [
    {
     "name": "stdout",
     "output_type": "stream",
     "text": [
      "cpu\n"
     ]
    },
    {
     "data": {
      "text/plain": [
       "CNN(\n",
       "  (conv1): Sequential(\n",
       "    (0): Conv2d(3, 32, kernel_size=(3, 3), stride=(1, 1), padding=(1, 1))\n",
       "    (1): ReLU()\n",
       "    (2): BatchNorm2d(32, eps=1e-05, momentum=0.1, affine=True, track_running_stats=True)\n",
       "    (3): Conv2d(32, 32, kernel_size=(3, 3), stride=(1, 1), padding=(1, 1))\n",
       "    (4): ReLU()\n",
       "    (5): BatchNorm2d(32, eps=1e-05, momentum=0.1, affine=True, track_running_stats=True)\n",
       "    (6): MaxPool2d(kernel_size=2, stride=2, padding=0, dilation=1, ceil_mode=False)\n",
       "  )\n",
       "  (conv2): Sequential(\n",
       "    (0): Conv2d(32, 64, kernel_size=(3, 3), stride=(1, 1), padding=(1, 1))\n",
       "    (1): ReLU()\n",
       "    (2): BatchNorm2d(64, eps=1e-05, momentum=0.1, affine=True, track_running_stats=True)\n",
       "    (3): Conv2d(64, 64, kernel_size=(3, 3), stride=(1, 1), padding=(1, 1))\n",
       "    (4): ReLU()\n",
       "    (5): BatchNorm2d(64, eps=1e-05, momentum=0.1, affine=True, track_running_stats=True)\n",
       "    (6): MaxPool2d(kernel_size=2, stride=2, padding=0, dilation=1, ceil_mode=False)\n",
       "  )\n",
       "  (conv3): Sequential(\n",
       "    (0): Conv2d(64, 128, kernel_size=(3, 3), stride=(1, 1), padding=(1, 1))\n",
       "    (1): ReLU()\n",
       "    (2): BatchNorm2d(128, eps=1e-05, momentum=0.1, affine=True, track_running_stats=True)\n",
       "    (3): Conv2d(128, 128, kernel_size=(3, 3), stride=(1, 1), padding=(1, 1))\n",
       "    (4): ReLU()\n",
       "    (5): BatchNorm2d(128, eps=1e-05, momentum=0.1, affine=True, track_running_stats=True)\n",
       "    (6): MaxPool2d(kernel_size=2, stride=2, padding=0, dilation=1, ceil_mode=False)\n",
       "  )\n",
       "  (fc1): Linear(in_features=2048, out_features=1024, bias=True)\n",
       "  (fc2): Linear(in_features=1024, out_features=10, bias=True)\n",
       ")"
      ]
     },
     "execution_count": 23,
     "metadata": {},
     "output_type": "execute_result"
    }
   ],
   "source": [
    "# Move the model to the GPU\n",
    "device = torch.device(\"cuda:0\" if torch.cuda.is_available() else \"cpu\")\n",
    "print(device)\n",
    "model.to(device)"
   ]
  },
  {
   "cell_type": "code",
   "execution_count": 24,
   "metadata": {
    "id": "aZ4UCqA1rG1k"
   },
   "outputs": [],
   "source": [
    "# Loss and optimizer\n",
    "criterion = nn.CrossEntropyLoss()\n",
    "optimizer = torch.optim.Adam(model.parameters())"
   ]
  },
  {
   "cell_type": "code",
   "execution_count": 25,
   "metadata": {
    "id": "mA8EMCwgrI6I"
   },
   "outputs": [],
   "source": [
    "# A function to encapsulate the training loop\n",
    "def training(model, criterion, optimizer, train_loader, test_loader, epochs):\n",
    "    train_losses = np.zeros(epochs)\n",
    "    test_losses = np.zeros(epochs)\n",
    "\n",
    "    for ep in range(epochs):\n",
    "        model.train()\n",
    "        t0 = datetime.now()\n",
    "        train_loss = []\n",
    "        for inputs, targets in train_loader:\n",
    "            # Move data to GPU\n",
    "            inputs, targets = inputs.to(device), targets.to(device)\n",
    "\n",
    "            # Zero the parameter gradients\n",
    "            optimizer.zero_grad()\n",
    "\n",
    "            # Forward pass\n",
    "            outputs = model(inputs)\n",
    "            loss = criterion(outputs, targets)\n",
    "\n",
    "            # Backward and optimize\n",
    "            loss.backward()\n",
    "            optimizer.step()\n",
    "\n",
    "            train_loss.append(loss.item())\n",
    "\n",
    "    # Get train loss and test loss\n",
    "    train_loss = np.mean(train_loss) \n",
    "    \n",
    "    model.eval()\n",
    "    test_loss = []\n",
    "    for inputs, targets in test_loader:\n",
    "        inputs, targets = inputs.to(device), targets.to(device)\n",
    "        outputs = model(inputs)\n",
    "        loss = criterion(outputs, targets)\n",
    "        test_loss.append(loss.item())\n",
    "    test_loss = np.mean(test_loss)\n",
    "\n",
    "    # Save losses\n",
    "    train_losses[ep] = train_loss\n",
    "    test_losses[ep] = test_loss\n",
    "    \n",
    "    dt = datetime.now() - t0\n",
    "    print(f'Epoch {ep+1}/{epochs}: \\n \\\n",
    "    Train Loss: {train_loss:.4f}, Test Loss: {test_loss:.4f}, Duration: {dt}')\n",
    "  \n",
    "  return train_losses, test_losses"
   ]
  },
  {
   "cell_type": "code",
   "execution_count": 28,
   "metadata": {
    "colab": {
     "base_uri": "https://localhost:8080/"
    },
    "id": "Cqv9wpKSrpGq",
    "outputId": "23ea0e87-0e0a-4dcf-e477-35b36f93fcdf"
   },
   "outputs": [
    {
     "name": "stdout",
     "output_type": "stream",
     "text": [
      "Epoch 1/15: \n",
      "     Train Loss: 0.3251, Test Loss: 0.4194, Duration: 0:06:16.216503\n",
      "Epoch 2/15: \n",
      "     Train Loss: 0.3154, Test Loss: 0.4129, Duration: 0:06:34.059649\n",
      "Epoch 3/15: \n",
      "     Train Loss: 0.3153, Test Loss: 0.3996, Duration: 0:06:36.238213\n",
      "Epoch 4/15: \n",
      "     Train Loss: 0.3084, Test Loss: 0.4332, Duration: 0:06:42.787999\n",
      "Epoch 5/15: \n",
      "     Train Loss: 0.3059, Test Loss: 0.4297, Duration: 0:06:42.315155\n",
      "Epoch 6/15: \n",
      "     Train Loss: 0.3007, Test Loss: 0.4209, Duration: 0:06:45.882805\n",
      "Epoch 7/15: \n",
      "     Train Loss: 0.2914, Test Loss: 0.4297, Duration: 0:06:45.628378\n",
      "Epoch 8/15: \n",
      "     Train Loss: 0.2896, Test Loss: 0.4423, Duration: 0:06:39.041904\n",
      "Epoch 9/15: \n",
      "     Train Loss: 0.2824, Test Loss: 0.4595, Duration: 0:06:39.718232\n",
      "Epoch 10/15: \n",
      "     Train Loss: 0.2809, Test Loss: 0.4221, Duration: 0:06:41.897310\n",
      "Epoch 11/15: \n",
      "     Train Loss: 0.2753, Test Loss: 0.4074, Duration: 0:06:42.511350\n",
      "Epoch 12/15: \n",
      "     Train Loss: 0.2735, Test Loss: 0.4181, Duration: 0:06:30.791039\n",
      "Epoch 13/15: \n",
      "     Train Loss: 0.2697, Test Loss: 0.4507, Duration: 0:06:31.361717\n",
      "Epoch 14/15: \n",
      "     Train Loss: 0.2618, Test Loss: 0.4293, Duration: 0:06:30.349977\n",
      "Epoch 15/15: \n",
      "     Train Loss: 0.2619, Test Loss: 0.3860, Duration: 0:06:30.632209\n"
     ]
    }
   ],
   "source": [
    "# Training process\n",
    "train_losses, test_losses = training(\n",
    "    model, criterion, optimizer, train_loader, test_loader, epochs=15)"
   ]
  },
  {
   "cell_type": "code",
   "execution_count": 29,
   "metadata": {
    "colab": {
     "base_uri": "https://localhost:8080/",
     "height": 265
    },
    "id": "J3w9XlETrpSn",
    "outputId": "53eea93a-bcaf-44d2-fba1-247e6b8d86bc"
   },
   "outputs": [
    {
     "data": {
      "image/png": "[encoded data removed]",
      "text/plain": [
       "<Figure size 432x288 with 1 Axes>"
      ]
     },
     "metadata": {
      "needs_background": "light"
     },
     "output_type": "display_data"
    }
   ],
   "source": [
    "# Plot the train loss and test loss per iteration\n",
    "plt.plot(train_losses, label='train loss')\n",
    "plt.plot(test_losses, label='test loss')\n",
    "plt.legend()\n",
    "plt.show()"
   ]
  },
  {
   "cell_type": "code",
   "execution_count": 30,
   "metadata": {
    "colab": {
     "base_uri": "https://localhost:8080/"
    },
    "id": "eWDQCBCzrza5",
    "outputId": "af16d027-4ced-4f2f-c8e6-5c20a70ffae2"
   },
   "outputs": [
    {
     "name": "stdout",
     "output_type": "stream",
     "text": [
      "Train acc: 0.9331.\n"
     ]
    }
   ],
   "source": [
    "# Train accuracy\n",
    "\n",
    "model.eval()\n",
    "n_correct = 0.\n",
    "n_total = 0.\n",
    "for inputs, targets in train_loader_fixed:\n",
    "    # Move to GPU\n",
    "    inputs, targets = inputs.to(device), targets.to(device)\n",
    "\n",
    "    # Forward pass\n",
    "    outputs = model(inputs)\n",
    "\n",
    "    # Get prediction\n",
    "    # torch.max returns both max and argmax\n",
    "    _, predictions = torch.max(outputs, 1)\n",
    "\n",
    "    # Update counts\n",
    "    n_correct += (predictions == targets).sum().item()\n",
    "    n_total += targets.shape[0]\n",
    "\n",
    "train_acc = n_correct / n_total\n",
    "print(f\"Train acc: {train_acc:.4f}.\")"
   ]
  },
  {
   "cell_type": "code",
   "execution_count": 32,
   "metadata": {
    "id": "MWbXG4Cdrzdf"
   },
   "outputs": [],
   "source": [
    "# Print and plot Confusion matrix\n",
    "from sklearn.metrics import confusion_matrix\n",
    "import itertools\n",
    "\n",
    "def plot_confusion_matrix(cm, classes,\n",
    "                          normalize=False,\n",
    "                          title='Confusion matrix',\n",
    "                          cmap=plt.cm.Blues):\n",
    "\n",
    "    if normalize:\n",
    "        cm = cm.astype('float') / cm.sum(axis=1)[:, np.newaxis]\n",
    "        print(\"Normalized confusion matrix\")\n",
    "    else:\n",
    "        print('Confusion matrix, without normalization')\n",
    "\n",
    "    print(cm)\n",
    "\n",
    "    fig, ax = plt.subplots(figsize=(18, 10))\n",
    "    plt.imshow(cm, interpolation='nearest', cmap=cmap)\n",
    "    plt.title(title, fontsize = 20)\n",
    "    plt.colorbar()\n",
    "    tick_marks = np.arange(len(classes))\n",
    "    plt.xticks(tick_marks, classes, fontsize = 18)\n",
    "    plt.yticks(tick_marks, classes, fontsize = 18)\n",
    "\n",
    "    fmt = '.2f' if normalize else 'd'\n",
    "    thresh = cm.max() / 2.\n",
    "    for i, j in itertools.product(range(cm.shape[0]), range(cm.shape[1])):\n",
    "        plt.text(j, i, format(cm[i, j], fmt),\n",
    "               horizontalalignment=\"center\",\n",
    "               color=\"white\" if cm[i, j] > thresh else \"black\",\n",
    "               fontsize = 14)\n",
    "\n",
    "    plt.tight_layout()\n",
    "    plt.ylabel('True label', fontsize = 18)\n",
    "    plt.xlabel('Predicted label', fontsize = 18)\n",
    "    plt.show()"
   ]
  },
  {
   "cell_type": "code",
   "execution_count": 34,
   "metadata": {
    "colab": {
     "base_uri": "https://localhost:8080/",
     "height": 955
    },
    "id": "1UQpZUWOrzgI",
    "outputId": "d55dec73-b31d-4421-a470-3065874c0100"
   },
   "outputs": [
    {
     "name": "stdout",
     "output_type": "stream",
     "text": [
      "Train acc: 0.9331, Test acc: 0.8762\n",
      "Confusion matrix, without normalization\n",
      "[[901   7  23   7   5   2   5   8  31  11]\n",
      " [  4 956   0   1   0   0   0   1   5  33]\n",
      " [ 27   1 832  26  31  24  38  14   5   2]\n",
      " [ 12   4  37 742  25 100  34  26  11   9]\n",
      " [  6   2  29  38 860  17  25  20   2   1]\n",
      " [  6   0  29  95  13 818  12  25   0   2]\n",
      " [  6   2  38  22  11   9 908   1   1   2]\n",
      " [ 12   1  14  22  17  19   4 907   2   2]\n",
      " [ 39  19   1   4   0   0   4   1 919  13]\n",
      " [ 14  41   1   4   0   1   1   2  17 919]]\n"
     ]
    },
    {
     "data": {
      "image/png": "[encoded data removed]",
      "text/plain": [
       "<Figure size 1296x720 with 2 Axes>"
      ]
     },
     "metadata": {
      "needs_background": "light"
     },
     "output_type": "display_data"
    }
   ],
   "source": [
    "n_correct = 0.\n",
    "n_total = 0.\n",
    "x_test = test_dataset.data\n",
    "y_test = test_dataset.targets\n",
    "p_test = np.array([])\n",
    "\n",
    "for inputs, targets in test_loader:\n",
    "    # Move to GPU\n",
    "    inputs, targets = inputs.to(device), targets.to(device)\n",
    "\n",
    "    # Forward pass\n",
    "    outputs = model(inputs)\n",
    "\n",
    "    # Get prediction\n",
    "    # torch.max returns both max and argmax\n",
    "    _, predictions = torch.max(outputs, 1)\n",
    "\n",
    "    # Update p_test\n",
    "    p_test = np.concatenate((p_test, predictions.cpu().numpy()))\n",
    "\n",
    "    # update counts\n",
    "    n_correct += (predictions == targets).sum().item()\n",
    "    n_total += targets.shape[0]\n",
    "\n",
    "test_acc = n_correct / n_total\n",
    "print(f\"Train acc: {train_acc:.4f}, Test acc: {test_acc:.4f}\")\n",
    "\n",
    "cm = confusion_matrix(y_test, p_test)\n",
    "plot_confusion_matrix(cm, list(range(10)))"
   ]
  },
  {
   "cell_type": "code",
   "execution_count": null,
   "metadata": {
    "id": "oYN1KVwiFrXB"
   },
   "outputs": [],
   "source": [
    "# label mapping\n",
    "labels = '''airplane\n",
    "automobile\n",
    "bird\n",
    "cat\n",
    "deer\n",
    "dog\n",
    "frog\n",
    "horse\n",
    "ship\n",
    "truck'''.split()"
   ]
  },
  {
   "cell_type": "code",
   "execution_count": 35,
   "metadata": {
    "colab": {
     "base_uri": "https://localhost:8080/",
     "height": 1000
    },
    "id": "oci3JjVRFy6i",
    "outputId": "caedb19d-e4d0-46b8-e423-4b991dc567f6"
   },
   "outputs": [
    {
     "data": {
      "image/png": "[encoded data removed]",
      "text/plain": [
       "<Figure size 2304x2304 with 10 Axes>"
      ]
     },
     "metadata": {
      "needs_background": "light"
     },
     "output_type": "display_data"
    }
   ],
   "source": [
    "# Show some misclassified examples\n",
    "p_test = p_test.astype(np.uint8)\n",
    "misclassified_idx = np.where(p_test != y_test)[0]\n",
    "sample_idx = np.random.choice(misclassified_idx, 10, replace=False)\n",
    "plt.figure(figsize=(32,32))\n",
    "for j, i in enumerate(sample_idx):\n",
    "    plt.subplot(10, 1, j + 1)\n",
    "    plt.axis('off')\n",
    "    plt.imshow(x_test[i].reshape(32,32,3))\n",
    "    plt.title(\"True label: %s Predicted: %s\" % (labels[y_test[i]], labels[p_test[i]]));"
   ]
  },
  {
   "cell_type": "code",
   "execution_count": 36,
   "metadata": {
    "colab": {
     "base_uri": "https://localhost:8080/"
    },
    "id": "-rK8N4RhFzAC",
    "outputId": "f7998516-e9d8-4ac2-c7be-fadf1d3216bb"
   },
   "outputs": [
    {
     "name": "stdout",
     "output_type": "stream",
     "text": [
      "----------------------------------------------------------------\n",
      "        Layer (type)               Output Shape         Param #\n",
      "================================================================\n",
      "            Conv2d-1           [-1, 32, 32, 32]             896\n",
      "              ReLU-2           [-1, 32, 32, 32]               0\n",
      "       BatchNorm2d-3           [-1, 32, 32, 32]              64\n",
      "            Conv2d-4           [-1, 32, 32, 32]           9,248\n",
      "              ReLU-5           [-1, 32, 32, 32]               0\n",
      "       BatchNorm2d-6           [-1, 32, 32, 32]              64\n",
      "         MaxPool2d-7           [-1, 32, 16, 16]               0\n",
      "            Conv2d-8           [-1, 64, 16, 16]          18,496\n",
      "              ReLU-9           [-1, 64, 16, 16]               0\n",
      "      BatchNorm2d-10           [-1, 64, 16, 16]             128\n",
      "           Conv2d-11           [-1, 64, 16, 16]          36,928\n",
      "             ReLU-12           [-1, 64, 16, 16]               0\n",
      "      BatchNorm2d-13           [-1, 64, 16, 16]             128\n",
      "        MaxPool2d-14             [-1, 64, 8, 8]               0\n",
      "           Conv2d-15            [-1, 128, 8, 8]          73,856\n",
      "             ReLU-16            [-1, 128, 8, 8]               0\n",
      "      BatchNorm2d-17            [-1, 128, 8, 8]             256\n",
      "           Conv2d-18            [-1, 128, 8, 8]         147,584\n",
      "             ReLU-19            [-1, 128, 8, 8]               0\n",
      "      BatchNorm2d-20            [-1, 128, 8, 8]             256\n",
      "        MaxPool2d-21            [-1, 128, 4, 4]               0\n",
      "           Linear-22                 [-1, 1024]       2,098,176\n",
      "           Linear-23                   [-1, 10]          10,250\n",
      "================================================================\n",
      "Total params: 2,396,330\n",
      "Trainable params: 2,396,330\n",
      "Non-trainable params: 0\n",
      "----------------------------------------------------------------\n",
      "Input size (MB): 0.01\n",
      "Forward/backward pass size (MB): 2.74\n",
      "Params size (MB): 9.14\n",
      "Estimated Total Size (MB): 11.90\n",
      "----------------------------------------------------------------\n"
     ]
    }
   ],
   "source": [
    "from torchsummary import summary\n",
    "summary(model, (3, 32, 32))"
   ]
  },
  {
   "cell_type": "code",
   "execution_count": null,
   "metadata": {
    "id": "2FuxI1wTFzDn"
   },
   "outputs": [],
   "source": []
  }
 ],
 "metadata": {
  "accelerator": "TPU",
  "colab": {
   "collapsed_sections": [],
   "name": "CNN_CIFAR.ipynb",
   "provenance": []
  },
  "kernelspec": {
   "display_name": "Python 3",
   "language": "python",
   "name": "python3"
  },
  "language_info": {
   "codemirror_mode": {
    "name": "ipython",
    "version": 3
   },
   "file_extension": ".py",
   "mimetype": "text/x-python",
   "name": "python",
   "nbconvert_exporter": "python",
   "pygments_lexer": "ipython3",
   "version": "3.8.8"
  },
  "widgets": {
   "application/vnd.jupyter.widget-state+json": {
    "1f0cdfdd381f475ea1f5d2b543d97268": {
     "model_module": "@jupyter-widgets/controls",
     "model_module_version": "1.5.0",
     "model_name": "HTMLModel",
     "state": {
      "_dom_classes": [],
      "_model_module": "@jupyter-widgets/controls",
      "_model_module_version": "1.5.0",
      "_model_name": "HTMLModel",
      "_view_count": null,
      "_view_module": "@jupyter-widgets/controls",
      "_view_module_version": "1.5.0",
      "_view_name": "HTMLView",
      "description": "",
      "description_tooltip": null,
      "layout": "IPY_MODEL_a738c8b7c9ef461daf7e9eb1f4eba54a",
      "placeholder": "​",
      "style": "IPY_MODEL_82398bcdd8be4fcaae8c0d374b666ebd",
      "value": " 170499072/? [00:13&lt;00:00, 16662195.15it/s]"
     }
    },
    "47b2fa59e27a4fbdacb5b70573c4b071": {
     "model_module": "@jupyter-widgets/base",
     "model_module_version": "1.2.0",
     "model_name": "LayoutModel",
     "state": {
      "_model_module": "@jupyter-widgets/base",
      "_model_module_version": "1.2.0",
      "_model_name": "LayoutModel",
      "_view_count": null,
      "_view_module": "@jupyter-widgets/base",
      "_view_module_version": "1.2.0",
      "_view_name": "LayoutView",
      "align_content": null,
      "align_items": null,
      "align_self": null,
      "border": null,
      "bottom": null,
      "display": null,
      "flex": null,
      "flex_flow": null,
      "grid_area": null,
      "grid_auto_columns": null,
      "grid_auto_flow": null,
      "grid_auto_rows": null,
      "grid_column": null,
      "grid_gap": null,
      "grid_row": null,
      "grid_template_areas": null,
      "grid_template_columns": null,
      "grid_template_rows": null,
      "height": null,
      "justify_content": null,
      "justify_items": null,
      "left": null,
      "margin": null,
      "max_height": null,
      "max_width": null,
      "min_height": null,
      "min_width": null,
      "object_fit": null,
      "object_position": null,
      "order": null,
      "overflow": null,
      "overflow_x": null,
      "overflow_y": null,
      "padding": null,
      "right": null,
      "top": null,
      "visibility": null,
      "width": null
     }
    },
    "52c7eda49bc2437ebd3371232ddd2d2a": {
     "model_module": "@jupyter-widgets/controls",
     "model_module_version": "1.5.0",
     "model_name": "ProgressStyleModel",
     "state": {
      "_model_module": "@jupyter-widgets/controls",
      "_model_module_version": "1.5.0",
      "_model_name": "ProgressStyleModel",
      "_view_count": null,
      "_view_module": "@jupyter-widgets/base",
      "_view_module_version": "1.2.0",
      "_view_name": "StyleView",
      "bar_color": null,
      "description_width": ""
     }
    },
    "82398bcdd8be4fcaae8c0d374b666ebd": {
     "model_module": "@jupyter-widgets/controls",
     "model_module_version": "1.5.0",
     "model_name": "DescriptionStyleModel",
     "state": {
      "_model_module": "@jupyter-widgets/controls",
      "_model_module_version": "1.5.0",
      "_model_name": "DescriptionStyleModel",
      "_view_count": null,
      "_view_module": "@jupyter-widgets/base",
      "_view_module_version": "1.2.0",
      "_view_name": "StyleView",
      "description_width": ""
     }
    },
    "984b9e756f7a421f87e33567176844fb": {
     "model_module": "@jupyter-widgets/controls",
     "model_module_version": "1.5.0",
     "model_name": "DescriptionStyleModel",
     "state": {
      "_model_module": "@jupyter-widgets/controls",
      "_model_module_version": "1.5.0",
      "_model_name": "DescriptionStyleModel",
      "_view_count": null,
      "_view_module": "@jupyter-widgets/base",
      "_view_module_version": "1.2.0",
      "_view_name": "StyleView",
      "description_width": ""
     }
    },
    "a738c8b7c9ef461daf7e9eb1f4eba54a": {
     "model_module": "@jupyter-widgets/base",
     "model_module_version": "1.2.0",
     "model_name": "LayoutModel",
     "state": {
      "_model_module": "@jupyter-widgets/base",
      "_model_module_version": "1.2.0",
      "_model_name": "LayoutModel",
      "_view_count": null,
      "_view_module": "@jupyter-widgets/base",
      "_view_module_version": "1.2.0",
      "_view_name": "LayoutView",
      "align_content": null,
      "align_items": null,
      "align_self": null,
      "border": null,
      "bottom": null,
      "display": null,
      "flex": null,
      "flex_flow": null,
      "grid_area": null,
      "grid_auto_columns": null,
      "grid_auto_flow": null,
      "grid_auto_rows": null,
      "grid_column": null,
      "grid_gap": null,
      "grid_row": null,
      "grid_template_areas": null,
      "grid_template_columns": null,
      "grid_template_rows": null,
      "height": null,
      "justify_content": null,
      "justify_items": null,
      "left": null,
      "margin": null,
      "max_height": null,
      "max_width": null,
      "min_height": null,
      "min_width": null,
      "object_fit": null,
      "object_position": null,
      "order": null,
      "overflow": null,
      "overflow_x": null,
      "overflow_y": null,
      "padding": null,
      "right": null,
      "top": null,
      "visibility": null,
      "width": null
     }
    },
    "ae5dec4b53a74b17811bb50dfff72a6d": {
     "model_module": "@jupyter-widgets/controls",
     "model_module_version": "1.5.0",
     "model_name": "HBoxModel",
     "state": {
      "_dom_classes": [],
      "_model_module": "@jupyter-widgets/controls",
      "_model_module_version": "1.5.0",
      "_model_name": "HBoxModel",
      "_view_count": null,
      "_view_module": "@jupyter-widgets/controls",
      "_view_module_version": "1.5.0",
      "_view_name": "HBoxView",
      "box_style": "",
      "children": [
       "IPY_MODEL_e6aa2a7df0ef4286b1e07433d9465cf7",
       "IPY_MODEL_ff4d4fb6f2af46ccb35831ca48416c68",
       "IPY_MODEL_1f0cdfdd381f475ea1f5d2b543d97268"
      ],
      "layout": "IPY_MODEL_c9110c8654d24488905f5d036fce7a1c"
     }
    },
    "c9110c8654d24488905f5d036fce7a1c": {
     "model_module": "@jupyter-widgets/base",
     "model_module_version": "1.2.0",
     "model_name": "LayoutModel",
     "state": {
      "_model_module": "@jupyter-widgets/base",
      "_model_module_version": "1.2.0",
      "_model_name": "LayoutModel",
      "_view_count": null,
      "_view_module": "@jupyter-widgets/base",
      "_view_module_version": "1.2.0",
      "_view_name": "LayoutView",
      "align_content": null,
      "align_items": null,
      "align_self": null,
      "border": null,
      "bottom": null,
      "display": null,
      "flex": null,
      "flex_flow": null,
      "grid_area": null,
      "grid_auto_columns": null,
      "grid_auto_flow": null,
      "grid_auto_rows": null,
      "grid_column": null,
      "grid_gap": null,
      "grid_row": null,
      "grid_template_areas": null,
      "grid_template_columns": null,
      "grid_template_rows": null,
      "height": null,
      "justify_content": null,
      "justify_items": null,
      "left": null,
      "margin": null,
      "max_height": null,
      "max_width": null,
      "min_height": null,
      "min_width": null,
      "object_fit": null,
      "object_position": null,
      "order": null,
      "overflow": null,
      "overflow_x": null,
      "overflow_y": null,
      "padding": null,
      "right": null,
      "top": null,
      "visibility": null,
      "width": null
     }
    },
    "e6aa2a7df0ef4286b1e07433d9465cf7": {
     "model_module": "@jupyter-widgets/controls",
     "model_module_version": "1.5.0",
     "model_name": "HTMLModel",
     "state": {
      "_dom_classes": [],
      "_model_module": "@jupyter-widgets/controls",
      "_model_module_version": "1.5.0",
      "_model_name": "HTMLModel",
      "_view_count": null,
      "_view_module": "@jupyter-widgets/controls",
      "_view_module_version": "1.5.0",
      "_view_name": "HTMLView",
      "description": "",
      "description_tooltip": null,
      "layout": "IPY_MODEL_f1d78c8b971b4286a492f6c050274d29",
      "placeholder": "​",
      "style": "IPY_MODEL_984b9e756f7a421f87e33567176844fb",
      "value": ""
     }
    },
    "f1d78c8b971b4286a492f6c050274d29": {
     "model_module": "@jupyter-widgets/base",
     "model_module_version": "1.2.0",
     "model_name": "LayoutModel",
     "state": {
      "_model_module": "@jupyter-widgets/base",
      "_model_module_version": "1.2.0",
      "_model_name": "LayoutModel",
      "_view_count": null,
      "_view_module": "@jupyter-widgets/base",
      "_view_module_version": "1.2.0",
      "_view_name": "LayoutView",
      "align_content": null,
      "align_items": null,
      "align_self": null,
      "border": null,
      "bottom": null,
      "display": null,
      "flex": null,
      "flex_flow": null,
      "grid_area": null,
      "grid_auto_columns": null,
      "grid_auto_flow": null,
      "grid_auto_rows": null,
      "grid_column": null,
      "grid_gap": null,
      "grid_row": null,
      "grid_template_areas": null,
      "grid_template_columns": null,
      "grid_template_rows": null,
      "height": null,
      "justify_content": null,
      "justify_items": null,
      "left": null,
      "margin": null,
      "max_height": null,
      "max_width": null,
      "min_height": null,
      "min_width": null,
      "object_fit": null,
      "object_position": null,
      "order": null,
      "overflow": null,
      "overflow_x": null,
      "overflow_y": null,
      "padding": null,
      "right": null,
      "top": null,
      "visibility": null,
      "width": null
     }
    },
    "ff4d4fb6f2af46ccb35831ca48416c68": {
     "model_module": "@jupyter-widgets/controls",
     "model_module_version": "1.5.0",
     "model_name": "FloatProgressModel",
     "state": {
      "_dom_classes": [],
      "_model_module": "@jupyter-widgets/controls",
      "_model_module_version": "1.5.0",
      "_model_name": "FloatProgressModel",
      "_view_count": null,
      "_view_module": "@jupyter-widgets/controls",
      "_view_module_version": "1.5.0",
      "_view_name": "ProgressView",
      "bar_style": "success",
      "description": "",
      "description_tooltip": null,
      "layout": "IPY_MODEL_47b2fa59e27a4fbdacb5b70573c4b071",
      "max": 170498071,
      "min": 0,
      "orientation": "horizontal",
      "style": "IPY_MODEL_52c7eda49bc2437ebd3371232ddd2d2a",
      "value": 170498071
     }
    }
   }
  }
 },
 "nbformat": 4,
 "nbformat_minor": 1
}
