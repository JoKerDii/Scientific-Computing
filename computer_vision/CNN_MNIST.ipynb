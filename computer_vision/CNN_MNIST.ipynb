{
 "cells": [
  {
   "cell_type": "markdown",
   "metadata": {},
   "source": [
    "# Convolutional Neural Networks (CNN)\n",
    "\n",
    "## Table of Contents\n",
    "\n",
    "1. [Convolution](#first-bullet)\n",
    "    * [1D Convolution](#first-bullet1)\n",
    "    * [Properties](#first-bullet2)\n",
    "    * [2D Convolution](#first-bullet3)\n",
    "2. [CNN Architecture](#second-bullet)\n",
    "3. [The Convolution Module](#third-bullet)\n",
    "4. [Code - CNN for MNIST Classification](#fourth-bullet)\n",
    "5. Code - CNN for CIFAR-10 Classification"
   ]
  },
  {
   "cell_type": "markdown",
   "metadata": {
    "id": "KLnhRuyBG6hE"
   },
   "source": [
    "# 1. Convolution <a class=\"anchor\" id=\"first-bullet\"></a>\n",
    "\n",
    "## 1.1 1D Convolution <a class=\"anchor\" id=\"first-bullet1\"></a>\n",
    "\n",
    "* Convolution equation: \n",
    "  $$\n",
    "  (A * w)_{ij} = \\sum_{i'=0}^{K-1}\\sum_{j'=0}^{K-1}A(i - i', j-j')w(i',j')\n",
    "  $$\n",
    "* Cross Correlation (in CNN)\n",
    "  $$\n",
    "  (A * w)_{ij} = \\sum_{i'=0}^{K-1}\\sum_{j'=0}^{K-1}A(i + i', j+j')w(i',j')\n",
    "  $$\n",
    "* Modes (input length = N, kernel length = K)\n",
    "  * valid convolution (commonly used): \"output size\" = N-K+1\n",
    "  * Same convolution (commonly used): \"output size\" = N\n",
    "  * full convolution: \"output size\" = N + K - 1\n",
    "\n",
    "* 1D convolution\n",
    "  * Input image: $a=[a_1, a_2, a_3, a_4]$.\n",
    "  * Filter: $w = [w_1, w_2]$.\n",
    "  * Output image: $b = a*w=[a_1 w_1 + a_2 w_2, a_2 w_1 + a_3w_2, a_3 w_1 + a_4 w_2]$\n",
    "  * In general, $b_i = \\sum^K_{i'=1} a_{i+i'} w_{i'}$.\n",
    "  * Equivalent matrix multiplication:\n",
    "  $$\n",
    "  \\begin{pmatrix}a_1w_1 + a_2w_2 \\\\ a_2w_1 + a_3w_2 \\\\ a_3w_1 + a_4w_2 \\end{pmatrix} = \\begin{pmatrix}w_1 & w_2 & 0 & 0 \\\\ 0 & w_1 & w_2 &  0  \\\\0 & 0 & w_1 & w_2  \\end{pmatrix} \\begin{pmatrix}a_1 \\\\ a_2 \\\\ a_3 \\\\ a_4 \\end{pmatrix}\n",
    "  $$\n",
    "  but it takes up too much space to store and time to compute.\n",
    "\n",
    "## 1.2 Properties <a class=\"anchor\" id=\"first-bullet2\"></a>\n",
    "\n",
    "* Parameter sharing / weight sharing of convolution (Why?)\n",
    "  * Fully connected ANN.\n",
    "  * MNIST: $28 \\times 28 = 784$ sized input vector.\n",
    "  * CIFAR-10: $32 \\times 32 \\times 3 = 3072$ sized input vector.\n",
    "  * VGG (a modern CNN) looks at images of size $224 \\times 224$ = 150528 features.\n",
    "  * HD image: $1280 \\times 720$ = 2.8 million features.\n",
    "\n",
    "* Translational Invariance\n",
    "  * Convolution is a pattern finder / filter.\n",
    "  * We want the filter to look at all locations in the image. \n",
    "  * It's better to have a shared pattern finder because this pattern finder looks at all locations on the image and it doesn't need to learn the weights to look at at every single possible point.\n",
    "\n",
    "* How much do we save by weight sharing?\n",
    "  * Convolution layer:\n",
    "    * Suppose we use a valid mode of convolution.\n",
    "    * Input image : $32 \\times 32 \\times 3$.\n",
    "    * Filter: $3 \\times 5\\times 5\\times 64$.\n",
    "    * Output image: $28 \\times 28 \\times 64 (32-5+1=28)$.\n",
    "    * The total number of parameters (ignoring bias terms) $= 3 \\times 5 \\times 5\\times 64 = 4800$.\n",
    "  * Dense layer (full matrix multiplication)\n",
    "    * Flattened input image: $32 \\times 32 \\times 3 = 3072$.\n",
    "    * Flattened output vector: $28 \\times 28 \\times 64 = 50176$.\n",
    "    * Weight matrix: $3072 \\times 50176 = 154,140,672 \\sim 154$ million.\n",
    "    * We have more parameters. Without shared weights, we need to learn to find the pattern in every possible location it might appear, separately.\n",
    "  \n",
    "* How are convolution filters found?\n",
    "  * Convolution = image modifier (e.g. blur, edge detection).\n",
    "  * Convolution = pattern finder / share-parameter matrix multiplication / feature transformer. \n",
    "\n",
    "## 1.3 2D Convolution <a class=\"anchor\" id=\"first-bullet3\"></a>\n",
    "* 2D grayscale pattern finder\n",
    "  $$\n",
    "  (A*w)_{ij} = \\sum^K_{i'=1} \\sum^K_{j'=1} A(i + i', j+ j')w(i', j')\n",
    "  $$\n",
    "* 3D color pattern finder\n",
    "  $$\n",
    "  (A*w)_{ij} = \\sum^3_{c=1} \\sum^K_{i'=1} \\sum^K_{j'=1} A(i + i', j+ j',c)w(i', j',c)\n",
    "  $$\n",
    "* 3D convolution\n",
    "  * Input image: $H \\times W \\times 3$\n",
    "  * Kernel: $K \\times K \\times 3$\n",
    "  * Output image: $(H-K+1) \\times (W-K+1)$\n",
    "  * This should offend your sensibilities \n",
    "* Convolution in a Deep Neural Network\n",
    "  * $B = A * w$\n",
    "  * shape$(A) = H \\times W \\times C1$\n",
    "  * shape$(w) = C1 \\times K \\times K \\times C2$\n",
    "  * shape$(B) = H \\times W \\times C2$\n",
    "  * $B(i,j,c) = \\sum^K_{i'=1} \\sum^K_{j'=1} \\sum^{C1}_{c'=1}A(i+i', j+j', c')w(c',i',j',c)$\n",
    "\n"
   ]
  },
  {
   "cell_type": "markdown",
   "metadata": {},
   "source": [
    "---"
   ]
  },
  {
   "cell_type": "markdown",
   "metadata": {},
   "source": [
    "# 2. CNN Architecture <a class=\"anchor\" id=\"second-bullet\"></a>\n",
    "\n",
    "* Stage 1: a series of convolution layers and pooling layers.\n",
    "  * Convolution layer:\n",
    "    * Conv layer: $\\sigma(W * x + b)$; Dense layer: $\\sigma(W^Tx + b)$\n",
    "    * In both layers, we have bias term and activation function.\n",
    "    * In a Dense layer, if $W^Tx$ is a vector of size $M$, $b$ is also a vector of size $M$.\n",
    "    * In a Conv layer, $b$ does not have the same shape as $W*x$. Although this violates the rules of matrix arithmetic, but the rules of broadcasting in Numpy allow it. Broadcasting allows the same bias term applies to every pixel for each feature map.\n",
    "  * Pooling layer:\n",
    "    * Pooling is downsampling. Types are Max pooling and average pooling.\n",
    "    * Why pooling? translational invariance.\n",
    "    * Different pool sizes: $2\\times 3$ or $3 \\times 2$. Different strides: pool can overlap.\n",
    "    * Why pooling after convolution? \n",
    "      * After each \"conv-pool\" the image shrinks, but filter sizes generally stay the same. (Common filter sizes: $3\\times 3, 5\\times 5, 7 \\times 7$.)\n",
    "      * Since filters stay the same size, they find increasingly large patterns (relative to the image). So CNN can learn hierarchical feature.\n",
    "    * Losing information?\n",
    "      * Yes we lose spatial information since the image shrinks. But we care more about whether/how many times the feature was found, rather than where.\n",
    "      * Actually the number of feature maps increases at each layer, so we gain information in terms of what features were found.\n",
    "    * Handling different-sized images?\n",
    "      * Problem:\n",
    "        * Input image size = $32\\times32$\n",
    "        * 4 convolution with stride $2$: $32 \\times 32$ > $16 \\times 16$ > $8\\times 8$ > $4\\times4$ > $2\\times 2$.\n",
    "        * Input image size = $64\\times64$\n",
    "        * 4 convolution with stride $2$: $64 \\times 64$ > $32 \\times 32$ > $16 \\times 16$ > $8\\times 8$ > $4\\times4$.\n",
    "        * If final # feature maps $= 100$, then we would get\n",
    "          * 400-D vector for a $32 \\times 32$ image.\n",
    "          * 1600-D vector for a $64 \\times 64$ image.\n",
    "      * Solution: Global max pooling.\n",
    "        * We always get an output of $1\\times 1 \\times C$ regardless of $H$ and $W$.\n",
    "  * Hyperparameters\n",
    "    * Learning rate; hidden layers; hidden units per layer; etc.\n",
    "    * With CNNs, conventions are:.\n",
    "      * Small filters relative to image, e.g. $3\\times 3, 5\\times 5, 7 \\times 7$.\n",
    "      * Repeat: convolution -> pooling -> convolution -> pooling -> etc.\n",
    "      * Increase # feature maps, e.g. $32$ -> $64$ -> $128$ -> $128$.\n",
    "    * Stride is alternative to pooling. \"strided conv\" is alternative to \"conv-pool\".\n",
    "* Stage 2: a series of dense layers.\n",
    "  * Output of convolution is $H \\times W \\times C$ (# feature maps), but dense layer expects a 1D input vector.\n",
    "  * In PyTorch: `x.view(-1, num_features)`\n",
    "  * Different size of images can be handled by global max pool so that the vector sizes are the same for dense layer to process.\n",
    "\n",
    "* Final activation / # of nodes:\n",
    "  * Regression: none\n",
    "  * Binary classifiaction: sigmoid\n",
    "  * Multiclass classification: softmax\n"
   ]
  },
  {
   "cell_type": "markdown",
   "metadata": {},
   "source": [
    "---"
   ]
  },
  {
   "cell_type": "markdown",
   "metadata": {},
   "source": [
    "# 3. The Convolution Module <a class=\"anchor\" id=\"third-bullet\"></a>\n",
    "\n",
    "* nn.Conv2d\n",
    "  * Main parameter is the filter kernel ($ C1 \\times H \\times W \\times C2$).\n",
    "  * The number of channels AKA the number of feature maps.\n",
    "  * Usually $H=W=K$(Kernel size, usually $K = 3$).\n",
    "  * Usually odd\n",
    "  * Stride: step size\n",
    "\n",
    "    ```{Python}\n",
    "    nn.Conv2d(in_channels = 1, out_channels=32, kernel_size=3, stride=2)\n",
    "    ```\n",
    "\n",
    "* Why Conv2d?\n",
    "  * Although we have ($H\\times W \\times C$), but color is not a spatial dimension.\n",
    "  * 1D convolution example: time series.\n",
    "  * 3D convolution example: video (height, width, time); voxels (height, width, depth) - medical imaging data.\n",
    "\n",
    "* Module Inheritance\n",
    "  * nn.Module: the base class that all other modules inherit from\n",
    "  * Examples of nn.Module: nn.Linear, nn.ReLU, nn.Sequential.\n",
    "\n",
    "* Hierarchical Structure\n",
    "  * model = nn.Linear() # a module\n",
    "  * model = nn.Sequential(...) # a module of modules\n",
    "  * ...... # module of modules of modules\n",
    "\n",
    "* Dropout Regularization\n",
    "  * Randomly drop nodes during training, so output not totally dependnet on any single input.\n",
    "  * Usually between dense layers, but not convolutions.\n",
    "\n",
    "* Convolutional Arithmetic\n",
    "  * Given kernel size, input size, stride size, padding, calculate the output size after convolution\n",
    "  * Tutorial: https://pytorch.org/docs/stable/generated/torch.nn.Conv2d.html\n",
    "  * Example: dilation = 1; padding = 1; kernel_size = 3, stride = 2, H_in = 32\n",
    "\n",
    "    H_out = floor$[(32 + 2\\times1 - 1\\times（3-1）-1)/2  +1]  = 16$\n",
    "\n",
    "* Size convention of PyTorch library\n",
    "  * $N \\times C \\times H \\times W$ but not $N \\times H \\times W \\times C$\n",
    "  * torch vision hides this detail with transforms.ToTensor()\n",
    "    * dataset.data: $N \\times H \\times W \\times C$\n",
    "    * yield: $N \\times C \\times H \\times W$\n",
    "\n",
    "\n"
   ]
  },
  {
   "cell_type": "markdown",
   "metadata": {},
   "source": [
    "---"
   ]
  },
  {
   "cell_type": "markdown",
   "metadata": {},
   "source": [
    "# 4. Code - PyTorch CNN for MNIST Classification <a class=\"anchor\" id=\"fourth-bullet\"></a>\n",
    "* Step 1. Load in the data\n",
    "    * Fashion MNIST\n",
    "    * $28 \\times 28$ grayscale\n",
    "    * Labels: t-shirt, shoes, pants, etc. \n",
    "* Step 2. Build the model\n",
    "* Step 3. Train the model (more: data augmentation)\n",
    "* Step 4. Evaluate the moel\n",
    "* Step 5. Make predictions\n",
    "  "
   ]
  },
  {
   "cell_type": "code",
   "execution_count": 1,
   "metadata": {
    "id": "2nHyhdZjxbL5"
   },
   "outputs": [],
   "source": [
    "import torch\n",
    "import torch.nn as nn\n",
    "import torchvision\n",
    "import torchvision.transforms as transforms\n",
    "import numpy as np\n",
    "import matplotlib.pyplot as plt\n",
    "from datetime import datetime"
   ]
  },
  {
   "cell_type": "code",
   "execution_count": 2,
   "metadata": {
    "colab": {
     "base_uri": "https://localhost:8080/",
     "height": 417,
     "referenced_widgets": [
      "ae05777f63144b5a9b86783cf46155ee",
      "571941e2a97b4fd49d2039be5277bac4",
      "cd36e79cadfd4b498cc58595b3f90c83",
      "4e929e3f9c1e4b0b90f796a36b8a7215",
      "01edf7aaa4494cddaa655174627a28e4",
      "1fd6a8145ee34c7b94b5a6f703ab87a8",
      "31d980087649433e84c17cb4964e456d",
      "8ffd91da5d5c432198a88aaff372b1cd",
      "ffbe46a51e03475b9ae7ca4425caa199",
      "f17021d8f3a34e46a1b909e2fdf4abfd",
      "e7df0331478a44698813c491551854b6",
      "a43a5c7e62294213b8414f0f59ea144c",
      "404fd1bf790e407f82854921c08ddb3a",
      "a3d2f165e80949348685469057a54ac7",
      "9632fb92cf1e487782d1cfc577fb20ff",
      "a5ef33cb592f4d0aa285dcd05d08ec90",
      "e08a808c425d48c7977a28864bbcc01f",
      "d495cfe420954050b71c6a015f8c10bb",
      "d9b8a2fdfa9b45c486e5a1da576d889f",
      "d343f6ae751d4c9c9701fd8f624dd7bb",
      "80840e42d4e14bef89a86b0e4dcd0477",
      "c59638e522b94ee9b426a250cdee27c4",
      "3e2767aca2ea4d76b62743c56d36031c",
      "2410e8f609b647308aa4619ffee9c052",
      "432f26c09b334adaa497d0faf6a739fb",
      "dd4ef1b7c2cf47528279ef14c6f6434e",
      "7d6f8d4aabd147879d7e54b4f4a90eb6",
      "88aa141e8c534a1b902e91b9293afa71",
      "2f30f21680b14052809bacd9b7462f72",
      "26a3920b88c047539f7d68f8bfb008a5",
      "7beae462463c46c4beb86b550099f57f",
      "975cd48c3a0c4ab2aa59f91c1c111d76",
      "643149b9e934484982d32e8302f36e2e",
      "375c1ff18cac4835940656924d031b49",
      "540b953b86c743b2a0df59ee34ecd4d3",
      "6cc59a8db480471885426ede5d54be07",
      "4c9e39c62b2b4f49b7111a586391a140",
      "833c949af5934ddea1e3447cebe07391",
      "ed20554746054c40a6fef096d24d7399",
      "29d6a71b6e7c40e789971ceca19af427",
      "fcde31dfbff6480697c1ee68d3e6092f",
      "bca9dfbe5d4845a3b10a9861cc1a8ec8",
      "c7712116d1284114857010120d470efa",
      "00a293d52d3c44cdbd914a483fb3a62a"
     ]
    },
    "id": "OtsuCeN5xqyw",
    "outputId": "08599c1d-4d9e-4748-be44-ee4db2fc3552"
   },
   "outputs": [
    {
     "name": "stdout",
     "output_type": "stream",
     "text": [
      "Downloading http://fashion-mnist.s3-website.eu-central-1.amazonaws.com/train-images-idx3-ubyte.gz\n",
      "Downloading http://fashion-mnist.s3-website.eu-central-1.amazonaws.com/train-images-idx3-ubyte.gz to ./FashionMNIST/raw/train-images-idx3-ubyte.gz\n"
     ]
    },
    {
     "data": {
      "application/vnd.jupyter.widget-view+json": {
       "model_id": "ae05777f63144b5a9b86783cf46155ee",
       "version_major": 2,
       "version_minor": 0
      },
      "text/plain": [
       "  0%|          | 0/26421880 [00:00<?, ?it/s]"
      ]
     },
     "metadata": {},
     "output_type": "display_data"
    },
    {
     "name": "stdout",
     "output_type": "stream",
     "text": [
      "Extracting ./FashionMNIST/raw/train-images-idx3-ubyte.gz to ./FashionMNIST/raw\n",
      "\n",
      "Downloading http://fashion-mnist.s3-website.eu-central-1.amazonaws.com/train-labels-idx1-ubyte.gz\n",
      "Downloading http://fashion-mnist.s3-website.eu-central-1.amazonaws.com/train-labels-idx1-ubyte.gz to ./FashionMNIST/raw/train-labels-idx1-ubyte.gz\n"
     ]
    },
    {
     "data": {
      "application/vnd.jupyter.widget-view+json": {
       "model_id": "a43a5c7e62294213b8414f0f59ea144c",
       "version_major": 2,
       "version_minor": 0
      },
      "text/plain": [
       "  0%|          | 0/29515 [00:00<?, ?it/s]"
      ]
     },
     "metadata": {},
     "output_type": "display_data"
    },
    {
     "name": "stdout",
     "output_type": "stream",
     "text": [
      "Extracting ./FashionMNIST/raw/train-labels-idx1-ubyte.gz to ./FashionMNIST/raw\n",
      "\n",
      "Downloading http://fashion-mnist.s3-website.eu-central-1.amazonaws.com/t10k-images-idx3-ubyte.gz\n",
      "Downloading http://fashion-mnist.s3-website.eu-central-1.amazonaws.com/t10k-images-idx3-ubyte.gz to ./FashionMNIST/raw/t10k-images-idx3-ubyte.gz\n"
     ]
    },
    {
     "data": {
      "application/vnd.jupyter.widget-view+json": {
       "model_id": "3e2767aca2ea4d76b62743c56d36031c",
       "version_major": 2,
       "version_minor": 0
      },
      "text/plain": [
       "  0%|          | 0/4422102 [00:00<?, ?it/s]"
      ]
     },
     "metadata": {},
     "output_type": "display_data"
    },
    {
     "name": "stdout",
     "output_type": "stream",
     "text": [
      "Extracting ./FashionMNIST/raw/t10k-images-idx3-ubyte.gz to ./FashionMNIST/raw\n",
      "\n",
      "Downloading http://fashion-mnist.s3-website.eu-central-1.amazonaws.com/t10k-labels-idx1-ubyte.gz\n",
      "Downloading http://fashion-mnist.s3-website.eu-central-1.amazonaws.com/t10k-labels-idx1-ubyte.gz to ./FashionMNIST/raw/t10k-labels-idx1-ubyte.gz\n"
     ]
    },
    {
     "data": {
      "application/vnd.jupyter.widget-view+json": {
       "model_id": "375c1ff18cac4835940656924d031b49",
       "version_major": 2,
       "version_minor": 0
      },
      "text/plain": [
       "  0%|          | 0/5148 [00:00<?, ?it/s]"
      ]
     },
     "metadata": {},
     "output_type": "display_data"
    },
    {
     "name": "stdout",
     "output_type": "stream",
     "text": [
      "Extracting ./FashionMNIST/raw/t10k-labels-idx1-ubyte.gz to ./FashionMNIST/raw\n",
      "\n"
     ]
    }
   ],
   "source": [
    "# Load in train and test dataset\n",
    "train_dataset = torchvision.datasets.FashionMNIST(\n",
    "    root='.',\n",
    "    train=True,\n",
    "    transform=transforms.ToTensor(),\n",
    "    download=True)\n",
    "\n",
    "test_dataset = torchvision.datasets.FashionMNIST(\n",
    "    root='.',\n",
    "    train=False,\n",
    "    transform=transforms.ToTensor(),\n",
    "    download=True)"
   ]
  },
  {
   "cell_type": "code",
   "execution_count": 9,
   "metadata": {
    "colab": {
     "base_uri": "https://localhost:8080/",
     "height": 68
    },
    "id": "92W7FKoTxyie",
    "outputId": "c0bd1191-012f-451e-da17-8f8288a24292"
   },
   "outputs": [
    {
     "data": {
      "text/plain": [
       "tensor(255, dtype=torch.uint8)"
      ]
     },
     "metadata": {},
     "output_type": "display_data"
    },
    {
     "data": {
      "text/plain": [
       "torch.Size([60000, 28, 28])"
      ]
     },
     "metadata": {},
     "output_type": "display_data"
    },
    {
     "data": {
      "text/plain": [
       "tensor([9, 0, 0,  ..., 3, 0, 5])"
      ]
     },
     "metadata": {},
     "output_type": "display_data"
    }
   ],
   "source": [
    "# Look at the size of train dataset\n",
    "display(train_dataset.data.max())\n",
    "display(train_dataset.data.shape)\n",
    "display(train_dataset.targets)\n",
    "\n",
    "# Number of classes\n",
    "K = len(set(train_dataset.targets.numpy()))\n",
    "print(\"number of classes:\", K)"
   ]
  },
  {
   "cell_type": "code",
   "execution_count": 12,
   "metadata": {
    "id": "UKYv3XWHyjTL"
   },
   "outputs": [],
   "source": [
    "# Define the model\n",
    "class CNN(nn.Module):\n",
    "    def __init__(self, K):\n",
    "        super(CNN, self).__init__()\n",
    "        self.conv_layers = nn.Sequential(\n",
    "          nn.Conv2d(in_channels=1, out_channels=32, kernel_size=3, stride=2),\n",
    "          nn.ReLU(),\n",
    "          nn.Conv2d(in_channels=32, out_channels=64, kernel_size=3, stride=2),\n",
    "          nn.ReLU(),\n",
    "          nn.Conv2d(in_channels=64, out_channels=128, kernel_size=3, stride=2),\n",
    "          nn.ReLU()\n",
    "        )\n",
    "\n",
    "        self.dense_layers = nn.Sequential(\n",
    "          nn.Dropout(0.2),\n",
    "          nn.Linear(128 * 2 * 2, 512),\n",
    "          nn.ReLU(),\n",
    "          nn.Dropout(0.2),\n",
    "          nn.Linear(512, K)\n",
    "        )\n",
    "  \n",
    "    def forward(self, X):\n",
    "        out = self.conv_layers(X)\n",
    "        out = out.view(out.size(0), -1)\n",
    "        out = self.dense_layers(out)\n",
    "        return out\n"
   ]
  },
  {
   "cell_type": "code",
   "execution_count": 13,
   "metadata": {
    "id": "W4YWDGpX1kNt"
   },
   "outputs": [],
   "source": [
    "# Instantiate the model\n",
    "model = CNN(K)"
   ]
  },
  {
   "cell_type": "code",
   "execution_count": 14,
   "metadata": {
    "colab": {
     "base_uri": "https://localhost:8080/"
    },
    "id": "lb-Fs4Z0RCfA",
    "outputId": "ac06f470-3b06-4d99-a309-aca280d0d955"
   },
   "outputs": [
    {
     "name": "stdout",
     "output_type": "stream",
     "text": [
      "cuda:0\n"
     ]
    },
    {
     "data": {
      "text/plain": [
       "CNN(\n",
       "  (conv_layers): Sequential(\n",
       "    (0): Conv2d(1, 32, kernel_size=(3, 3), stride=(2, 2))\n",
       "    (1): ReLU()\n",
       "    (2): Conv2d(32, 64, kernel_size=(3, 3), stride=(2, 2))\n",
       "    (3): ReLU()\n",
       "    (4): Conv2d(64, 128, kernel_size=(3, 3), stride=(2, 2))\n",
       "    (5): ReLU()\n",
       "  )\n",
       "  (dense_layers): Sequential(\n",
       "    (0): Dropout(p=0.2, inplace=False)\n",
       "    (1): Linear(in_features=512, out_features=512, bias=True)\n",
       "    (2): ReLU()\n",
       "    (3): Dropout(p=0.2, inplace=False)\n",
       "    (4): Linear(in_features=512, out_features=10, bias=True)\n",
       "  )\n",
       ")"
      ]
     },
     "execution_count": 14,
     "metadata": {},
     "output_type": "execute_result"
    }
   ],
   "source": [
    "# Move the model to the GPU\n",
    "device = torch.device(\"cuda:0\" if torch.cuda.is_available() else \"cpu\")\n",
    "print(device)\n",
    "model.to(device)"
   ]
  },
  {
   "cell_type": "code",
   "execution_count": 15,
   "metadata": {
    "id": "vcIQJicJ1sco"
   },
   "outputs": [],
   "source": [
    "# Loss and optimizer\n",
    "criterion = nn.CrossEntropyLoss()\n",
    "optimizer = torch.optim.Adam(model.parameters())"
   ]
  },
  {
   "cell_type": "code",
   "execution_count": 16,
   "metadata": {
    "id": "2YaUc5PN1_s0"
   },
   "outputs": [],
   "source": [
    "# Data loader - automatically generates batches in the training loop and takes care of shuffling\n",
    "batch_size = 128\n",
    "train_loader = torch.utils.data.DataLoader(dataset=train_dataset, \n",
    "                                           batch_size=batch_size, \n",
    "                                           shuffle=True)\n",
    "\n",
    "test_loader = torch.utils.data.DataLoader(dataset=test_dataset, \n",
    "                                          batch_size=batch_size, \n",
    "                                          shuffle=False)"
   ]
  },
  {
   "cell_type": "code",
   "execution_count": 18,
   "metadata": {
    "id": "bUDs5Dju1yE6"
   },
   "outputs": [],
   "source": [
    "# A function to encapsulate the training loop\n",
    "def training(model, criterion, optimizer, train_loader, test_loader, epochs):\n",
    "    train_losses = np.zeros(epochs)\n",
    "    test_losses = np.zeros(epochs)\n",
    "\n",
    "    for ep in range(epochs):\n",
    "        model.train()\n",
    "        t0 = datetime.now()\n",
    "        train_loss = []\n",
    "        for inputs, targets in train_loader:\n",
    "            # Move data to GPU\n",
    "            inputs, targets = inputs.to(device), targets.to(device)\n",
    "\n",
    "            # Zero the parameter gradients\n",
    "            optimizer.zero_grad()\n",
    "\n",
    "            # Forward pass\n",
    "            outputs = model(inputs)\n",
    "            loss = criterion(outputs, targets)\n",
    "\n",
    "            # Backward and optimize\n",
    "            loss.backward()\n",
    "            optimizer.step()\n",
    "\n",
    "            train_loss.append(loss.item())\n",
    "\n",
    "    # Get train loss and test loss\n",
    "    train_loss = np.mean(train_loss) \n",
    "    \n",
    "    model.eval()\n",
    "    test_loss = []\n",
    "    for inputs, targets in test_loader:\n",
    "        inputs, targets = inputs.to(device), targets.to(device)\n",
    "        outputs = model(inputs)\n",
    "        loss = criterion(outputs, targets)\n",
    "        test_loss.append(loss.item())\n",
    "    test_loss = np.mean(test_loss)\n",
    "\n",
    "    # Save losses\n",
    "    train_losses[ep] = train_loss\n",
    "    test_losses[ep] = test_loss\n",
    "    \n",
    "    dt = datetime.now() - t0\n",
    "    print(f'Epoch {ep+1}/{epochs}: \\\n",
    "    \\nTrain Loss: {train_loss:.4f}, Test Loss: {test_loss:.4f}, Duration: {dt}')\n",
    "  \n",
    "  return train_losses, test_losses"
   ]
  },
  {
   "cell_type": "code",
   "execution_count": 19,
   "metadata": {
    "colab": {
     "base_uri": "https://localhost:8080/"
    },
    "id": "6reGQj7e2ngB",
    "outputId": "6b8f27b9-389e-492b-dbc1-14dd7d713746"
   },
   "outputs": [
    {
     "name": "stdout",
     "output_type": "stream",
     "text": [
      "Epoch 1/15,     \n",
      "Train Loss: 0.6727, Test Loss: 0.5031, Duration: 0:00:14.791370\n",
      "Epoch 2/15,     \n",
      "Train Loss: 0.4464, Test Loss: 0.4058, Duration: 0:00:14.399935\n",
      "Epoch 3/15,     \n",
      "Train Loss: 0.3831, Test Loss: 0.3744, Duration: 0:00:14.387935\n",
      "Epoch 4/15,     \n",
      "Train Loss: 0.3508, Test Loss: 0.3401, Duration: 0:00:14.508885\n",
      "Epoch 5/15,     \n",
      "Train Loss: 0.3225, Test Loss: 0.3295, Duration: 0:00:14.465288\n",
      "Epoch 6/15,     \n",
      "Train Loss: 0.3010, Test Loss: 0.3130, Duration: 0:00:14.455688\n",
      "Epoch 7/15,     \n",
      "Train Loss: 0.2813, Test Loss: 0.3063, Duration: 0:00:14.495337\n",
      "Epoch 8/15,     \n",
      "Train Loss: 0.2646, Test Loss: 0.2918, Duration: 0:00:14.454773\n",
      "Epoch 9/15,     \n",
      "Train Loss: 0.2519, Test Loss: 0.2864, Duration: 0:00:14.462710\n",
      "Epoch 10/15,     \n",
      "Train Loss: 0.2346, Test Loss: 0.2891, Duration: 0:00:14.363290\n",
      "Epoch 11/15,     \n",
      "Train Loss: 0.2230, Test Loss: 0.2920, Duration: 0:00:14.325034\n",
      "Epoch 12/15,     \n",
      "Train Loss: 0.2107, Test Loss: 0.2878, Duration: 0:00:14.267239\n",
      "Epoch 13/15,     \n",
      "Train Loss: 0.1986, Test Loss: 0.2878, Duration: 0:00:14.114391\n",
      "Epoch 14/15,     \n",
      "Train Loss: 0.1882, Test Loss: 0.2858, Duration: 0:00:14.412776\n",
      "Epoch 15/15,     \n",
      "Train Loss: 0.1785, Test Loss: 0.2851, Duration: 0:00:14.223374\n"
     ]
    }
   ],
   "source": [
    "# Training process\n",
    "train_losses, test_losses = training(\n",
    "    model, criterion, optimizer, train_loader, test_loader, epochs=15)"
   ]
  },
  {
   "cell_type": "code",
   "execution_count": 20,
   "metadata": {
    "colab": {
     "base_uri": "https://localhost:8080/",
     "height": 265
    },
    "id": "i9lcGrRs46LY",
    "outputId": "61a901b2-d2c1-4c08-df8b-7399b2ee5378"
   },
   "outputs": [
    {
     "data": {
      "image/png": "[encoded data removed]",
      "text/plain": [
       "<Figure size 432x288 with 1 Axes>"
      ]
     },
     "metadata": {
      "needs_background": "light"
     },
     "output_type": "display_data"
    }
   ],
   "source": [
    "# Plot the train loss and test loss per epoch\n",
    "plt.plot(train_losses, label='train loss')\n",
    "plt.plot(test_losses, label='test loss')\n",
    "plt.legend()\n",
    "plt.show()"
   ]
  },
  {
   "cell_type": "code",
   "execution_count": 21,
   "metadata": {
    "colab": {
     "base_uri": "https://localhost:8080/"
    },
    "id": "8PyRq_4I5UoR",
    "outputId": "5cbc8834-28ef-4127-cfdd-3eaa1990cc93"
   },
   "outputs": [
    {
     "name": "stdout",
     "output_type": "stream",
     "text": [
      "Train acc: 0.9493, Test acc: 0.9024\n"
     ]
    }
   ],
   "source": [
    "# Train accuracy\n",
    "\n",
    "model.eval()\n",
    "n_correct = 0.\n",
    "n_total = 0.\n",
    "for inputs, targets in train_loader:\n",
    "    # move data to GPU\n",
    "    inputs, targets = inputs.to(device), targets.to(device)\n",
    "\n",
    "    # Forward pass\n",
    "    outputs = model(inputs)\n",
    "\n",
    "    # Get prediction\n",
    "    # torch.max returns both max and argmax\n",
    "    _, predictions = torch.max(outputs, 1)\n",
    "\n",
    "    # Update counts\n",
    "    n_correct += (predictions == targets).sum().item()\n",
    "    n_total += targets.shape[0]\n",
    "\n",
    "train_acc = n_correct / n_total\n"
   ]
  },
  {
   "cell_type": "code",
   "execution_count": 36,
   "metadata": {
    "id": "thYrBZd45eqS"
   },
   "outputs": [],
   "source": [
    "# Print and plot Confusion matrix\n",
    "from sklearn.metrics import confusion_matrix\n",
    "import itertools\n",
    "\n",
    "def plot_confusion_matrix(cm, classes,\n",
    "                          normalize=False,\n",
    "                          title='Confusion matrix',\n",
    "                          cmap=plt.cm.Blues):\n",
    "\n",
    "    if normalize:\n",
    "        cm = cm.astype('float') / cm.sum(axis=1)[:, np.newaxis]\n",
    "        print(\"Normalized confusion matrix\")\n",
    "    else:\n",
    "        print('Confusion matrix, without normalization')\n",
    "\n",
    "    print(cm)\n",
    "\n",
    "    fig, ax = plt.subplots(figsize=(18, 10))\n",
    "    plt.imshow(cm, interpolation='nearest', cmap=cmap)\n",
    "    plt.title(title, fontsize = 20)\n",
    "    plt.colorbar()\n",
    "    tick_marks = np.arange(len(classes))\n",
    "    plt.xticks(tick_marks, classes, fontsize = 18)\n",
    "    plt.yticks(tick_marks, classes, fontsize = 18)\n",
    "\n",
    "    fmt = '.2f' if normalize else 'd'\n",
    "    thresh = cm.max() / 2.\n",
    "    for i, j in itertools.product(range(cm.shape[0]), range(cm.shape[1])):\n",
    "        plt.text(j, i, format(cm[i, j], fmt),\n",
    "               horizontalalignment=\"center\",\n",
    "               color=\"white\" if cm[i, j] > thresh else \"black\",\n",
    "               fontsize = 14)\n",
    "\n",
    "    plt.tight_layout()\n",
    "    plt.ylabel('True label', fontsize = 18)\n",
    "    plt.xlabel('Predicted label', fontsize = 18)\n",
    "    plt.show()"
   ]
  },
  {
   "cell_type": "code",
   "execution_count": 37,
   "metadata": {
    "colab": {
     "base_uri": "https://localhost:8080/",
     "height": 955
    },
    "id": "QHoHAU2pGthy",
    "outputId": "80591387-f94b-4afc-8d90-2501496e25e9"
   },
   "outputs": [
    {
     "name": "stdout",
     "output_type": "stream",
     "text": [
      "Train acc: 0.9493, Test acc: 0.9024\n",
      "Confusion matrix, without normalization\n",
      "[[856   3  23  17   4   1  92   0   4   0]\n",
      " [  1 979   1  10   3   0   5   0   1   0]\n",
      " [ 17   1 800  10 112   0  57   0   3   0]\n",
      " [ 10   4  12 908  36   0  29   0   1   0]\n",
      " [  0   0  18  14 910   0  58   0   0   0]\n",
      " [  0   0   0   1   0 958   0  26   2  13]\n",
      " [ 92   0  55  28 114   0 703   0   8   0]\n",
      " [  0   0   0   0   0   6   0 965   0  29]\n",
      " [  2   3   3   0   7   1   4   1 978   1]\n",
      " [  1   0   0   0   0   4   0  28   0 967]]\n"
     ]
    },
    {
     "data": {
      "image/png": "[encoded data removed]",
      "text/plain": [
       "<Figure size 1296x720 with 2 Axes>"
      ]
     },
     "metadata": {
      "needs_background": "light"
     },
     "output_type": "display_data"
    }
   ],
   "source": [
    "# Test accuracy\n",
    "\n",
    "model.eval()\n",
    "n_correct = 0.\n",
    "n_total = 0.\n",
    "x_test = test_dataset.data.numpy()\n",
    "y_test = test_dataset.targets.numpy()\n",
    "p_test = np.array([])\n",
    "for inputs, targets in test_loader:\n",
    "    # Move data to GPU\n",
    "    inputs, targets = inputs.to(device), targets.to(device)\n",
    "\n",
    "    # Forward pass\n",
    "    outputs = model(inputs)\n",
    "\n",
    "    # Get prediction\n",
    "    # torch.max returns both max and argmax\n",
    "    _, predictions = torch.max(outputs, 1)\n",
    "\n",
    "    # Update p_test\n",
    "    p_test = np.concatenate((p_test, predictions.cpu().numpy()))\n",
    "\n",
    "    # Update counts\n",
    "    n_correct += (predictions == targets).sum().item()\n",
    "    n_total += targets.shape[0]\n",
    "\n",
    "test_acc = n_correct / n_total\n",
    "print(f\"Train acc: {train_acc:.4f}, Test acc: {test_acc:.4f}\")\n",
    "\n",
    "cm = confusion_matrix(y_test, p_test)\n",
    "plot_confusion_matrix(cm, list(range(10)))"
   ]
  },
  {
   "cell_type": "code",
   "execution_count": 39,
   "metadata": {
    "colab": {
     "base_uri": "https://localhost:8080/"
    },
    "id": "rWj0eKjM5mp6",
    "outputId": "da13ebcb-353b-4dd7-c7de-c519b04e1553"
   },
   "outputs": [
    {
     "name": "stdout",
     "output_type": "stream",
     "text": [
      "['T-shirt/top', 'Trouser', 'Pullover', 'Dress', 'Coat', 'Sandal', 'Shirt', 'Sneaker', 'Bag', 'Ankle boot']\n"
     ]
    }
   ],
   "source": [
    "# Label mapping\n",
    "labels = '''T-shirt/top\n",
    "Trouser\n",
    "Pullover\n",
    "Dress\n",
    "Coat\n",
    "Sandal\n",
    "Shirt\n",
    "Sneaker\n",
    "Bag\n",
    "Ankle boot'''.split(\"\\n\")\n",
    "print(labels)"
   ]
  },
  {
   "cell_type": "code",
   "execution_count": 45,
   "metadata": {
    "colab": {
     "base_uri": "https://localhost:8080/",
     "height": 281
    },
    "id": "xHNAM8xA5uni",
    "outputId": "9d815c40-3977-419b-d43d-9d2e9eb8a79f"
   },
   "outputs": [
    {
     "data": {
      "image/png": "[encoded data removed]",
      "text/plain": [
       "<Figure size 432x288 with 1 Axes>"
      ]
     },
     "metadata": {
      "needs_background": "light"
     },
     "output_type": "display_data"
    }
   ],
   "source": [
    "# Show some misclassified examples\n",
    "p_test = p_test.astype(np.uint8)\n",
    "misclassified_idx = np.where(p_test != y_test)[0]\n",
    "i = np.random.choice(misclassified_idx)\n",
    "plt.imshow(x_test[i].reshape(28,28), cmap='gray')\n",
    "plt.title(f\"True label: {labels[y_test[i]]} Predicted: {labels[p_test[i]]}\");"
   ]
  }
 ],
 "metadata": {
  "accelerator": "GPU",
  "colab": {
   "collapsed_sections": [],
   "name": "CNN_MNIST.ipynb",
   "provenance": []
  },
  "kernelspec": {
   "display_name": "Python 3",
   "language": "python",
   "name": "python3"
  },
  "language_info": {
   "codemirror_mode": {
    "name": "ipython",
    "version": 3
   },
   "file_extension": ".py",
   "mimetype": "text/x-python",
   "name": "python",
   "nbconvert_exporter": "python",
   "pygments_lexer": "ipython3",
   "version": "3.8.8"
  },
  "widgets": {
   "application/vnd.jupyter.widget-state+json": {
    "00a293d52d3c44cdbd914a483fb3a62a": {
     "model_module": "@jupyter-widgets/base",
     "model_module_version": "1.2.0",
     "model_name": "LayoutModel",
     "state": {
      "_model_module": "@jupyter-widgets/base",
      "_model_module_version": "1.2.0",
      "_model_name": "LayoutModel",
      "_view_count": null,
      "_view_module": "@jupyter-widgets/base",
      "_view_module_version": "1.2.0",
      "_view_name": "LayoutView",
      "align_content": null,
      "align_items": null,
      "align_self": null,
      "border": null,
      "bottom": null,
      "display": null,
      "flex": null,
      "flex_flow": null,
      "grid_area": null,
      "grid_auto_columns": null,
      "grid_auto_flow": null,
      "grid_auto_rows": null,
      "grid_column": null,
      "grid_gap": null,
      "grid_row": null,
      "grid_template_areas": null,
      "grid_template_columns": null,
      "grid_template_rows": null,
      "height": null,
      "justify_content": null,
      "justify_items": null,
      "left": null,
      "margin": null,
      "max_height": null,
      "max_width": null,
      "min_height": null,
      "min_width": null,
      "object_fit": null,
      "object_position": null,
      "order": null,
      "overflow": null,
      "overflow_x": null,
      "overflow_y": null,
      "padding": null,
      "right": null,
      "top": null,
      "visibility": null,
      "width": null
     }
    },
    "01edf7aaa4494cddaa655174627a28e4": {
     "model_module": "@jupyter-widgets/controls",
     "model_module_version": "1.5.0",
     "model_name": "HTMLModel",
     "state": {
      "_dom_classes": [],
      "_model_module": "@jupyter-widgets/controls",
      "_model_module_version": "1.5.0",
      "_model_name": "HTMLModel",
      "_view_count": null,
      "_view_module": "@jupyter-widgets/controls",
      "_view_module_version": "1.5.0",
      "_view_name": "HTMLView",
      "description": "",
      "description_tooltip": null,
      "layout": "IPY_MODEL_e7df0331478a44698813c491551854b6",
      "placeholder": "​",
      "style": "IPY_MODEL_f17021d8f3a34e46a1b909e2fdf4abfd",
      "value": " 26422272/? [00:01&lt;00:00, 21295315.99it/s]"
     }
    },
    "1fd6a8145ee34c7b94b5a6f703ab87a8": {
     "model_module": "@jupyter-widgets/controls",
     "model_module_version": "1.5.0",
     "model_name": "DescriptionStyleModel",
     "state": {
      "_model_module": "@jupyter-widgets/controls",
      "_model_module_version": "1.5.0",
      "_model_name": "DescriptionStyleModel",
      "_view_count": null,
      "_view_module": "@jupyter-widgets/base",
      "_view_module_version": "1.2.0",
      "_view_name": "StyleView",
      "description_width": ""
     }
    },
    "2410e8f609b647308aa4619ffee9c052": {
     "model_module": "@jupyter-widgets/base",
     "model_module_version": "1.2.0",
     "model_name": "LayoutModel",
     "state": {
      "_model_module": "@jupyter-widgets/base",
      "_model_module_version": "1.2.0",
      "_model_name": "LayoutModel",
      "_view_count": null,
      "_view_module": "@jupyter-widgets/base",
      "_view_module_version": "1.2.0",
      "_view_name": "LayoutView",
      "align_content": null,
      "align_items": null,
      "align_self": null,
      "border": null,
      "bottom": null,
      "display": null,
      "flex": null,
      "flex_flow": null,
      "grid_area": null,
      "grid_auto_columns": null,
      "grid_auto_flow": null,
      "grid_auto_rows": null,
      "grid_column": null,
      "grid_gap": null,
      "grid_row": null,
      "grid_template_areas": null,
      "grid_template_columns": null,
      "grid_template_rows": null,
      "height": null,
      "justify_content": null,
      "justify_items": null,
      "left": null,
      "margin": null,
      "max_height": null,
      "max_width": null,
      "min_height": null,
      "min_width": null,
      "object_fit": null,
      "object_position": null,
      "order": null,
      "overflow": null,
      "overflow_x": null,
      "overflow_y": null,
      "padding": null,
      "right": null,
      "top": null,
      "visibility": null,
      "width": null
     }
    },
    "26a3920b88c047539f7d68f8bfb008a5": {
     "model_module": "@jupyter-widgets/controls",
     "model_module_version": "1.5.0",
     "model_name": "ProgressStyleModel",
     "state": {
      "_model_module": "@jupyter-widgets/controls",
      "_model_module_version": "1.5.0",
      "_model_name": "ProgressStyleModel",
      "_view_count": null,
      "_view_module": "@jupyter-widgets/base",
      "_view_module_version": "1.2.0",
      "_view_name": "StyleView",
      "bar_color": null,
      "description_width": ""
     }
    },
    "29d6a71b6e7c40e789971ceca19af427": {
     "model_module": "@jupyter-widgets/base",
     "model_module_version": "1.2.0",
     "model_name": "LayoutModel",
     "state": {
      "_model_module": "@jupyter-widgets/base",
      "_model_module_version": "1.2.0",
      "_model_name": "LayoutModel",
      "_view_count": null,
      "_view_module": "@jupyter-widgets/base",
      "_view_module_version": "1.2.0",
      "_view_name": "LayoutView",
      "align_content": null,
      "align_items": null,
      "align_self": null,
      "border": null,
      "bottom": null,
      "display": null,
      "flex": null,
      "flex_flow": null,
      "grid_area": null,
      "grid_auto_columns": null,
      "grid_auto_flow": null,
      "grid_auto_rows": null,
      "grid_column": null,
      "grid_gap": null,
      "grid_row": null,
      "grid_template_areas": null,
      "grid_template_columns": null,
      "grid_template_rows": null,
      "height": null,
      "justify_content": null,
      "justify_items": null,
      "left": null,
      "margin": null,
      "max_height": null,
      "max_width": null,
      "min_height": null,
      "min_width": null,
      "object_fit": null,
      "object_position": null,
      "order": null,
      "overflow": null,
      "overflow_x": null,
      "overflow_y": null,
      "padding": null,
      "right": null,
      "top": null,
      "visibility": null,
      "width": null
     }
    },
    "2f30f21680b14052809bacd9b7462f72": {
     "model_module": "@jupyter-widgets/base",
     "model_module_version": "1.2.0",
     "model_name": "LayoutModel",
     "state": {
      "_model_module": "@jupyter-widgets/base",
      "_model_module_version": "1.2.0",
      "_model_name": "LayoutModel",
      "_view_count": null,
      "_view_module": "@jupyter-widgets/base",
      "_view_module_version": "1.2.0",
      "_view_name": "LayoutView",
      "align_content": null,
      "align_items": null,
      "align_self": null,
      "border": null,
      "bottom": null,
      "display": null,
      "flex": null,
      "flex_flow": null,
      "grid_area": null,
      "grid_auto_columns": null,
      "grid_auto_flow": null,
      "grid_auto_rows": null,
      "grid_column": null,
      "grid_gap": null,
      "grid_row": null,
      "grid_template_areas": null,
      "grid_template_columns": null,
      "grid_template_rows": null,
      "height": null,
      "justify_content": null,
      "justify_items": null,
      "left": null,
      "margin": null,
      "max_height": null,
      "max_width": null,
      "min_height": null,
      "min_width": null,
      "object_fit": null,
      "object_position": null,
      "order": null,
      "overflow": null,
      "overflow_x": null,
      "overflow_y": null,
      "padding": null,
      "right": null,
      "top": null,
      "visibility": null,
      "width": null
     }
    },
    "31d980087649433e84c17cb4964e456d": {
     "model_module": "@jupyter-widgets/base",
     "model_module_version": "1.2.0",
     "model_name": "LayoutModel",
     "state": {
      "_model_module": "@jupyter-widgets/base",
      "_model_module_version": "1.2.0",
      "_model_name": "LayoutModel",
      "_view_count": null,
      "_view_module": "@jupyter-widgets/base",
      "_view_module_version": "1.2.0",
      "_view_name": "LayoutView",
      "align_content": null,
      "align_items": null,
      "align_self": null,
      "border": null,
      "bottom": null,
      "display": null,
      "flex": null,
      "flex_flow": null,
      "grid_area": null,
      "grid_auto_columns": null,
      "grid_auto_flow": null,
      "grid_auto_rows": null,
      "grid_column": null,
      "grid_gap": null,
      "grid_row": null,
      "grid_template_areas": null,
      "grid_template_columns": null,
      "grid_template_rows": null,
      "height": null,
      "justify_content": null,
      "justify_items": null,
      "left": null,
      "margin": null,
      "max_height": null,
      "max_width": null,
      "min_height": null,
      "min_width": null,
      "object_fit": null,
      "object_position": null,
      "order": null,
      "overflow": null,
      "overflow_x": null,
      "overflow_y": null,
      "padding": null,
      "right": null,
      "top": null,
      "visibility": null,
      "width": null
     }
    },
    "375c1ff18cac4835940656924d031b49": {
     "model_module": "@jupyter-widgets/controls",
     "model_module_version": "1.5.0",
     "model_name": "HBoxModel",
     "state": {
      "_dom_classes": [],
      "_model_module": "@jupyter-widgets/controls",
      "_model_module_version": "1.5.0",
      "_model_name": "HBoxModel",
      "_view_count": null,
      "_view_module": "@jupyter-widgets/controls",
      "_view_module_version": "1.5.0",
      "_view_name": "HBoxView",
      "box_style": "",
      "children": [
       "IPY_MODEL_6cc59a8db480471885426ede5d54be07",
       "IPY_MODEL_4c9e39c62b2b4f49b7111a586391a140",
       "IPY_MODEL_833c949af5934ddea1e3447cebe07391"
      ],
      "layout": "IPY_MODEL_540b953b86c743b2a0df59ee34ecd4d3"
     }
    },
    "3e2767aca2ea4d76b62743c56d36031c": {
     "model_module": "@jupyter-widgets/controls",
     "model_module_version": "1.5.0",
     "model_name": "HBoxModel",
     "state": {
      "_dom_classes": [],
      "_model_module": "@jupyter-widgets/controls",
      "_model_module_version": "1.5.0",
      "_model_name": "HBoxModel",
      "_view_count": null,
      "_view_module": "@jupyter-widgets/controls",
      "_view_module_version": "1.5.0",
      "_view_name": "HBoxView",
      "box_style": "",
      "children": [
       "IPY_MODEL_432f26c09b334adaa497d0faf6a739fb",
       "IPY_MODEL_dd4ef1b7c2cf47528279ef14c6f6434e",
       "IPY_MODEL_7d6f8d4aabd147879d7e54b4f4a90eb6"
      ],
      "layout": "IPY_MODEL_2410e8f609b647308aa4619ffee9c052"
     }
    },
    "404fd1bf790e407f82854921c08ddb3a": {
     "model_module": "@jupyter-widgets/base",
     "model_module_version": "1.2.0",
     "model_name": "LayoutModel",
     "state": {
      "_model_module": "@jupyter-widgets/base",
      "_model_module_version": "1.2.0",
      "_model_name": "LayoutModel",
      "_view_count": null,
      "_view_module": "@jupyter-widgets/base",
      "_view_module_version": "1.2.0",
      "_view_name": "LayoutView",
      "align_content": null,
      "align_items": null,
      "align_self": null,
      "border": null,
      "bottom": null,
      "display": null,
      "flex": null,
      "flex_flow": null,
      "grid_area": null,
      "grid_auto_columns": null,
      "grid_auto_flow": null,
      "grid_auto_rows": null,
      "grid_column": null,
      "grid_gap": null,
      "grid_row": null,
      "grid_template_areas": null,
      "grid_template_columns": null,
      "grid_template_rows": null,
      "height": null,
      "justify_content": null,
      "justify_items": null,
      "left": null,
      "margin": null,
      "max_height": null,
      "max_width": null,
      "min_height": null,
      "min_width": null,
      "object_fit": null,
      "object_position": null,
      "order": null,
      "overflow": null,
      "overflow_x": null,
      "overflow_y": null,
      "padding": null,
      "right": null,
      "top": null,
      "visibility": null,
      "width": null
     }
    },
    "432f26c09b334adaa497d0faf6a739fb": {
     "model_module": "@jupyter-widgets/controls",
     "model_module_version": "1.5.0",
     "model_name": "HTMLModel",
     "state": {
      "_dom_classes": [],
      "_model_module": "@jupyter-widgets/controls",
      "_model_module_version": "1.5.0",
      "_model_name": "HTMLModel",
      "_view_count": null,
      "_view_module": "@jupyter-widgets/controls",
      "_view_module_version": "1.5.0",
      "_view_name": "HTMLView",
      "description": "",
      "description_tooltip": null,
      "layout": "IPY_MODEL_2f30f21680b14052809bacd9b7462f72",
      "placeholder": "​",
      "style": "IPY_MODEL_88aa141e8c534a1b902e91b9293afa71",
      "value": ""
     }
    },
    "4c9e39c62b2b4f49b7111a586391a140": {
     "model_module": "@jupyter-widgets/controls",
     "model_module_version": "1.5.0",
     "model_name": "FloatProgressModel",
     "state": {
      "_dom_classes": [],
      "_model_module": "@jupyter-widgets/controls",
      "_model_module_version": "1.5.0",
      "_model_name": "FloatProgressModel",
      "_view_count": null,
      "_view_module": "@jupyter-widgets/controls",
      "_view_module_version": "1.5.0",
      "_view_name": "ProgressView",
      "bar_style": "success",
      "description": "",
      "description_tooltip": null,
      "layout": "IPY_MODEL_bca9dfbe5d4845a3b10a9861cc1a8ec8",
      "max": 5148,
      "min": 0,
      "orientation": "horizontal",
      "style": "IPY_MODEL_fcde31dfbff6480697c1ee68d3e6092f",
      "value": 5148
     }
    },
    "4e929e3f9c1e4b0b90f796a36b8a7215": {
     "model_module": "@jupyter-widgets/controls",
     "model_module_version": "1.5.0",
     "model_name": "FloatProgressModel",
     "state": {
      "_dom_classes": [],
      "_model_module": "@jupyter-widgets/controls",
      "_model_module_version": "1.5.0",
      "_model_name": "FloatProgressModel",
      "_view_count": null,
      "_view_module": "@jupyter-widgets/controls",
      "_view_module_version": "1.5.0",
      "_view_name": "ProgressView",
      "bar_style": "success",
      "description": "",
      "description_tooltip": null,
      "layout": "IPY_MODEL_ffbe46a51e03475b9ae7ca4425caa199",
      "max": 26421880,
      "min": 0,
      "orientation": "horizontal",
      "style": "IPY_MODEL_8ffd91da5d5c432198a88aaff372b1cd",
      "value": 26421880
     }
    },
    "540b953b86c743b2a0df59ee34ecd4d3": {
     "model_module": "@jupyter-widgets/base",
     "model_module_version": "1.2.0",
     "model_name": "LayoutModel",
     "state": {
      "_model_module": "@jupyter-widgets/base",
      "_model_module_version": "1.2.0",
      "_model_name": "LayoutModel",
      "_view_count": null,
      "_view_module": "@jupyter-widgets/base",
      "_view_module_version": "1.2.0",
      "_view_name": "LayoutView",
      "align_content": null,
      "align_items": null,
      "align_self": null,
      "border": null,
      "bottom": null,
      "display": null,
      "flex": null,
      "flex_flow": null,
      "grid_area": null,
      "grid_auto_columns": null,
      "grid_auto_flow": null,
      "grid_auto_rows": null,
      "grid_column": null,
      "grid_gap": null,
      "grid_row": null,
      "grid_template_areas": null,
      "grid_template_columns": null,
      "grid_template_rows": null,
      "height": null,
      "justify_content": null,
      "justify_items": null,
      "left": null,
      "margin": null,
      "max_height": null,
      "max_width": null,
      "min_height": null,
      "min_width": null,
      "object_fit": null,
      "object_position": null,
      "order": null,
      "overflow": null,
      "overflow_x": null,
      "overflow_y": null,
      "padding": null,
      "right": null,
      "top": null,
      "visibility": null,
      "width": null
     }
    },
    "571941e2a97b4fd49d2039be5277bac4": {
     "model_module": "@jupyter-widgets/base",
     "model_module_version": "1.2.0",
     "model_name": "LayoutModel",
     "state": {
      "_model_module": "@jupyter-widgets/base",
      "_model_module_version": "1.2.0",
      "_model_name": "LayoutModel",
      "_view_count": null,
      "_view_module": "@jupyter-widgets/base",
      "_view_module_version": "1.2.0",
      "_view_name": "LayoutView",
      "align_content": null,
      "align_items": null,
      "align_self": null,
      "border": null,
      "bottom": null,
      "display": null,
      "flex": null,
      "flex_flow": null,
      "grid_area": null,
      "grid_auto_columns": null,
      "grid_auto_flow": null,
      "grid_auto_rows": null,
      "grid_column": null,
      "grid_gap": null,
      "grid_row": null,
      "grid_template_areas": null,
      "grid_template_columns": null,
      "grid_template_rows": null,
      "height": null,
      "justify_content": null,
      "justify_items": null,
      "left": null,
      "margin": null,
      "max_height": null,
      "max_width": null,
      "min_height": null,
      "min_width": null,
      "object_fit": null,
      "object_position": null,
      "order": null,
      "overflow": null,
      "overflow_x": null,
      "overflow_y": null,
      "padding": null,
      "right": null,
      "top": null,
      "visibility": null,
      "width": null
     }
    },
    "643149b9e934484982d32e8302f36e2e": {
     "model_module": "@jupyter-widgets/base",
     "model_module_version": "1.2.0",
     "model_name": "LayoutModel",
     "state": {
      "_model_module": "@jupyter-widgets/base",
      "_model_module_version": "1.2.0",
      "_model_name": "LayoutModel",
      "_view_count": null,
      "_view_module": "@jupyter-widgets/base",
      "_view_module_version": "1.2.0",
      "_view_name": "LayoutView",
      "align_content": null,
      "align_items": null,
      "align_self": null,
      "border": null,
      "bottom": null,
      "display": null,
      "flex": null,
      "flex_flow": null,
      "grid_area": null,
      "grid_auto_columns": null,
      "grid_auto_flow": null,
      "grid_auto_rows": null,
      "grid_column": null,
      "grid_gap": null,
      "grid_row": null,
      "grid_template_areas": null,
      "grid_template_columns": null,
      "grid_template_rows": null,
      "height": null,
      "justify_content": null,
      "justify_items": null,
      "left": null,
      "margin": null,
      "max_height": null,
      "max_width": null,
      "min_height": null,
      "min_width": null,
      "object_fit": null,
      "object_position": null,
      "order": null,
      "overflow": null,
      "overflow_x": null,
      "overflow_y": null,
      "padding": null,
      "right": null,
      "top": null,
      "visibility": null,
      "width": null
     }
    },
    "6cc59a8db480471885426ede5d54be07": {
     "model_module": "@jupyter-widgets/controls",
     "model_module_version": "1.5.0",
     "model_name": "HTMLModel",
     "state": {
      "_dom_classes": [],
      "_model_module": "@jupyter-widgets/controls",
      "_model_module_version": "1.5.0",
      "_model_name": "HTMLModel",
      "_view_count": null,
      "_view_module": "@jupyter-widgets/controls",
      "_view_module_version": "1.5.0",
      "_view_name": "HTMLView",
      "description": "",
      "description_tooltip": null,
      "layout": "IPY_MODEL_29d6a71b6e7c40e789971ceca19af427",
      "placeholder": "​",
      "style": "IPY_MODEL_ed20554746054c40a6fef096d24d7399",
      "value": ""
     }
    },
    "7beae462463c46c4beb86b550099f57f": {
     "model_module": "@jupyter-widgets/base",
     "model_module_version": "1.2.0",
     "model_name": "LayoutModel",
     "state": {
      "_model_module": "@jupyter-widgets/base",
      "_model_module_version": "1.2.0",
      "_model_name": "LayoutModel",
      "_view_count": null,
      "_view_module": "@jupyter-widgets/base",
      "_view_module_version": "1.2.0",
      "_view_name": "LayoutView",
      "align_content": null,
      "align_items": null,
      "align_self": null,
      "border": null,
      "bottom": null,
      "display": null,
      "flex": null,
      "flex_flow": null,
      "grid_area": null,
      "grid_auto_columns": null,
      "grid_auto_flow": null,
      "grid_auto_rows": null,
      "grid_column": null,
      "grid_gap": null,
      "grid_row": null,
      "grid_template_areas": null,
      "grid_template_columns": null,
      "grid_template_rows": null,
      "height": null,
      "justify_content": null,
      "justify_items": null,
      "left": null,
      "margin": null,
      "max_height": null,
      "max_width": null,
      "min_height": null,
      "min_width": null,
      "object_fit": null,
      "object_position": null,
      "order": null,
      "overflow": null,
      "overflow_x": null,
      "overflow_y": null,
      "padding": null,
      "right": null,
      "top": null,
      "visibility": null,
      "width": null
     }
    },
    "7d6f8d4aabd147879d7e54b4f4a90eb6": {
     "model_module": "@jupyter-widgets/controls",
     "model_module_version": "1.5.0",
     "model_name": "HTMLModel",
     "state": {
      "_dom_classes": [],
      "_model_module": "@jupyter-widgets/controls",
      "_model_module_version": "1.5.0",
      "_model_name": "HTMLModel",
      "_view_count": null,
      "_view_module": "@jupyter-widgets/controls",
      "_view_module_version": "1.5.0",
      "_view_name": "HTMLView",
      "description": "",
      "description_tooltip": null,
      "layout": "IPY_MODEL_643149b9e934484982d32e8302f36e2e",
      "placeholder": "​",
      "style": "IPY_MODEL_975cd48c3a0c4ab2aa59f91c1c111d76",
      "value": " 4422656/? [00:00&lt;00:00, 6660750.38it/s]"
     }
    },
    "80840e42d4e14bef89a86b0e4dcd0477": {
     "model_module": "@jupyter-widgets/controls",
     "model_module_version": "1.5.0",
     "model_name": "DescriptionStyleModel",
     "state": {
      "_model_module": "@jupyter-widgets/controls",
      "_model_module_version": "1.5.0",
      "_model_name": "DescriptionStyleModel",
      "_view_count": null,
      "_view_module": "@jupyter-widgets/base",
      "_view_module_version": "1.2.0",
      "_view_name": "StyleView",
      "description_width": ""
     }
    },
    "833c949af5934ddea1e3447cebe07391": {
     "model_module": "@jupyter-widgets/controls",
     "model_module_version": "1.5.0",
     "model_name": "HTMLModel",
     "state": {
      "_dom_classes": [],
      "_model_module": "@jupyter-widgets/controls",
      "_model_module_version": "1.5.0",
      "_model_name": "HTMLModel",
      "_view_count": null,
      "_view_module": "@jupyter-widgets/controls",
      "_view_module_version": "1.5.0",
      "_view_name": "HTMLView",
      "description": "",
      "description_tooltip": null,
      "layout": "IPY_MODEL_00a293d52d3c44cdbd914a483fb3a62a",
      "placeholder": "​",
      "style": "IPY_MODEL_c7712116d1284114857010120d470efa",
      "value": " 6144/? [00:00&lt;00:00, 120018.09it/s]"
     }
    },
    "88aa141e8c534a1b902e91b9293afa71": {
     "model_module": "@jupyter-widgets/controls",
     "model_module_version": "1.5.0",
     "model_name": "DescriptionStyleModel",
     "state": {
      "_model_module": "@jupyter-widgets/controls",
      "_model_module_version": "1.5.0",
      "_model_name": "DescriptionStyleModel",
      "_view_count": null,
      "_view_module": "@jupyter-widgets/base",
      "_view_module_version": "1.2.0",
      "_view_name": "StyleView",
      "description_width": ""
     }
    },
    "8ffd91da5d5c432198a88aaff372b1cd": {
     "model_module": "@jupyter-widgets/controls",
     "model_module_version": "1.5.0",
     "model_name": "ProgressStyleModel",
     "state": {
      "_model_module": "@jupyter-widgets/controls",
      "_model_module_version": "1.5.0",
      "_model_name": "ProgressStyleModel",
      "_view_count": null,
      "_view_module": "@jupyter-widgets/base",
      "_view_module_version": "1.2.0",
      "_view_name": "StyleView",
      "bar_color": null,
      "description_width": ""
     }
    },
    "9632fb92cf1e487782d1cfc577fb20ff": {
     "model_module": "@jupyter-widgets/controls",
     "model_module_version": "1.5.0",
     "model_name": "FloatProgressModel",
     "state": {
      "_dom_classes": [],
      "_model_module": "@jupyter-widgets/controls",
      "_model_module_version": "1.5.0",
      "_model_name": "FloatProgressModel",
      "_view_count": null,
      "_view_module": "@jupyter-widgets/controls",
      "_view_module_version": "1.5.0",
      "_view_name": "ProgressView",
      "bar_style": "success",
      "description": "",
      "description_tooltip": null,
      "layout": "IPY_MODEL_d343f6ae751d4c9c9701fd8f624dd7bb",
      "max": 29515,
      "min": 0,
      "orientation": "horizontal",
      "style": "IPY_MODEL_d9b8a2fdfa9b45c486e5a1da576d889f",
      "value": 29515
     }
    },
    "975cd48c3a0c4ab2aa59f91c1c111d76": {
     "model_module": "@jupyter-widgets/controls",
     "model_module_version": "1.5.0",
     "model_name": "DescriptionStyleModel",
     "state": {
      "_model_module": "@jupyter-widgets/controls",
      "_model_module_version": "1.5.0",
      "_model_name": "DescriptionStyleModel",
      "_view_count": null,
      "_view_module": "@jupyter-widgets/base",
      "_view_module_version": "1.2.0",
      "_view_name": "StyleView",
      "description_width": ""
     }
    },
    "a3d2f165e80949348685469057a54ac7": {
     "model_module": "@jupyter-widgets/controls",
     "model_module_version": "1.5.0",
     "model_name": "HTMLModel",
     "state": {
      "_dom_classes": [],
      "_model_module": "@jupyter-widgets/controls",
      "_model_module_version": "1.5.0",
      "_model_name": "HTMLModel",
      "_view_count": null,
      "_view_module": "@jupyter-widgets/controls",
      "_view_module_version": "1.5.0",
      "_view_name": "HTMLView",
      "description": "",
      "description_tooltip": null,
      "layout": "IPY_MODEL_d495cfe420954050b71c6a015f8c10bb",
      "placeholder": "​",
      "style": "IPY_MODEL_e08a808c425d48c7977a28864bbcc01f",
      "value": ""
     }
    },
    "a43a5c7e62294213b8414f0f59ea144c": {
     "model_module": "@jupyter-widgets/controls",
     "model_module_version": "1.5.0",
     "model_name": "HBoxModel",
     "state": {
      "_dom_classes": [],
      "_model_module": "@jupyter-widgets/controls",
      "_model_module_version": "1.5.0",
      "_model_name": "HBoxModel",
      "_view_count": null,
      "_view_module": "@jupyter-widgets/controls",
      "_view_module_version": "1.5.0",
      "_view_name": "HBoxView",
      "box_style": "",
      "children": [
       "IPY_MODEL_a3d2f165e80949348685469057a54ac7",
       "IPY_MODEL_9632fb92cf1e487782d1cfc577fb20ff",
       "IPY_MODEL_a5ef33cb592f4d0aa285dcd05d08ec90"
      ],
      "layout": "IPY_MODEL_404fd1bf790e407f82854921c08ddb3a"
     }
    },
    "a5ef33cb592f4d0aa285dcd05d08ec90": {
     "model_module": "@jupyter-widgets/controls",
     "model_module_version": "1.5.0",
     "model_name": "HTMLModel",
     "state": {
      "_dom_classes": [],
      "_model_module": "@jupyter-widgets/controls",
      "_model_module_version": "1.5.0",
      "_model_name": "HTMLModel",
      "_view_count": null,
      "_view_module": "@jupyter-widgets/controls",
      "_view_module_version": "1.5.0",
      "_view_name": "HTMLView",
      "description": "",
      "description_tooltip": null,
      "layout": "IPY_MODEL_c59638e522b94ee9b426a250cdee27c4",
      "placeholder": "​",
      "style": "IPY_MODEL_80840e42d4e14bef89a86b0e4dcd0477",
      "value": " 29696/? [00:00&lt;00:00, 128360.42it/s]"
     }
    },
    "ae05777f63144b5a9b86783cf46155ee": {
     "model_module": "@jupyter-widgets/controls",
     "model_module_version": "1.5.0",
     "model_name": "HBoxModel",
     "state": {
      "_dom_classes": [],
      "_model_module": "@jupyter-widgets/controls",
      "_model_module_version": "1.5.0",
      "_model_name": "HBoxModel",
      "_view_count": null,
      "_view_module": "@jupyter-widgets/controls",
      "_view_module_version": "1.5.0",
      "_view_name": "HBoxView",
      "box_style": "",
      "children": [
       "IPY_MODEL_cd36e79cadfd4b498cc58595b3f90c83",
       "IPY_MODEL_4e929e3f9c1e4b0b90f796a36b8a7215",
       "IPY_MODEL_01edf7aaa4494cddaa655174627a28e4"
      ],
      "layout": "IPY_MODEL_571941e2a97b4fd49d2039be5277bac4"
     }
    },
    "bca9dfbe5d4845a3b10a9861cc1a8ec8": {
     "model_module": "@jupyter-widgets/base",
     "model_module_version": "1.2.0",
     "model_name": "LayoutModel",
     "state": {
      "_model_module": "@jupyter-widgets/base",
      "_model_module_version": "1.2.0",
      "_model_name": "LayoutModel",
      "_view_count": null,
      "_view_module": "@jupyter-widgets/base",
      "_view_module_version": "1.2.0",
      "_view_name": "LayoutView",
      "align_content": null,
      "align_items": null,
      "align_self": null,
      "border": null,
      "bottom": null,
      "display": null,
      "flex": null,
      "flex_flow": null,
      "grid_area": null,
      "grid_auto_columns": null,
      "grid_auto_flow": null,
      "grid_auto_rows": null,
      "grid_column": null,
      "grid_gap": null,
      "grid_row": null,
      "grid_template_areas": null,
      "grid_template_columns": null,
      "grid_template_rows": null,
      "height": null,
      "justify_content": null,
      "justify_items": null,
      "left": null,
      "margin": null,
      "max_height": null,
      "max_width": null,
      "min_height": null,
      "min_width": null,
      "object_fit": null,
      "object_position": null,
      "order": null,
      "overflow": null,
      "overflow_x": null,
      "overflow_y": null,
      "padding": null,
      "right": null,
      "top": null,
      "visibility": null,
      "width": null
     }
    },
    "c59638e522b94ee9b426a250cdee27c4": {
     "model_module": "@jupyter-widgets/base",
     "model_module_version": "1.2.0",
     "model_name": "LayoutModel",
     "state": {
      "_model_module": "@jupyter-widgets/base",
      "_model_module_version": "1.2.0",
      "_model_name": "LayoutModel",
      "_view_count": null,
      "_view_module": "@jupyter-widgets/base",
      "_view_module_version": "1.2.0",
      "_view_name": "LayoutView",
      "align_content": null,
      "align_items": null,
      "align_self": null,
      "border": null,
      "bottom": null,
      "display": null,
      "flex": null,
      "flex_flow": null,
      "grid_area": null,
      "grid_auto_columns": null,
      "grid_auto_flow": null,
      "grid_auto_rows": null,
      "grid_column": null,
      "grid_gap": null,
      "grid_row": null,
      "grid_template_areas": null,
      "grid_template_columns": null,
      "grid_template_rows": null,
      "height": null,
      "justify_content": null,
      "justify_items": null,
      "left": null,
      "margin": null,
      "max_height": null,
      "max_width": null,
      "min_height": null,
      "min_width": null,
      "object_fit": null,
      "object_position": null,
      "order": null,
      "overflow": null,
      "overflow_x": null,
      "overflow_y": null,
      "padding": null,
      "right": null,
      "top": null,
      "visibility": null,
      "width": null
     }
    },
    "c7712116d1284114857010120d470efa": {
     "model_module": "@jupyter-widgets/controls",
     "model_module_version": "1.5.0",
     "model_name": "DescriptionStyleModel",
     "state": {
      "_model_module": "@jupyter-widgets/controls",
      "_model_module_version": "1.5.0",
      "_model_name": "DescriptionStyleModel",
      "_view_count": null,
      "_view_module": "@jupyter-widgets/base",
      "_view_module_version": "1.2.0",
      "_view_name": "StyleView",
      "description_width": ""
     }
    },
    "cd36e79cadfd4b498cc58595b3f90c83": {
     "model_module": "@jupyter-widgets/controls",
     "model_module_version": "1.5.0",
     "model_name": "HTMLModel",
     "state": {
      "_dom_classes": [],
      "_model_module": "@jupyter-widgets/controls",
      "_model_module_version": "1.5.0",
      "_model_name": "HTMLModel",
      "_view_count": null,
      "_view_module": "@jupyter-widgets/controls",
      "_view_module_version": "1.5.0",
      "_view_name": "HTMLView",
      "description": "",
      "description_tooltip": null,
      "layout": "IPY_MODEL_31d980087649433e84c17cb4964e456d",
      "placeholder": "​",
      "style": "IPY_MODEL_1fd6a8145ee34c7b94b5a6f703ab87a8",
      "value": ""
     }
    },
    "d343f6ae751d4c9c9701fd8f624dd7bb": {
     "model_module": "@jupyter-widgets/base",
     "model_module_version": "1.2.0",
     "model_name": "LayoutModel",
     "state": {
      "_model_module": "@jupyter-widgets/base",
      "_model_module_version": "1.2.0",
      "_model_name": "LayoutModel",
      "_view_count": null,
      "_view_module": "@jupyter-widgets/base",
      "_view_module_version": "1.2.0",
      "_view_name": "LayoutView",
      "align_content": null,
      "align_items": null,
      "align_self": null,
      "border": null,
      "bottom": null,
      "display": null,
      "flex": null,
      "flex_flow": null,
      "grid_area": null,
      "grid_auto_columns": null,
      "grid_auto_flow": null,
      "grid_auto_rows": null,
      "grid_column": null,
      "grid_gap": null,
      "grid_row": null,
      "grid_template_areas": null,
      "grid_template_columns": null,
      "grid_template_rows": null,
      "height": null,
      "justify_content": null,
      "justify_items": null,
      "left": null,
      "margin": null,
      "max_height": null,
      "max_width": null,
      "min_height": null,
      "min_width": null,
      "object_fit": null,
      "object_position": null,
      "order": null,
      "overflow": null,
      "overflow_x": null,
      "overflow_y": null,
      "padding": null,
      "right": null,
      "top": null,
      "visibility": null,
      "width": null
     }
    },
    "d495cfe420954050b71c6a015f8c10bb": {
     "model_module": "@jupyter-widgets/base",
     "model_module_version": "1.2.0",
     "model_name": "LayoutModel",
     "state": {
      "_model_module": "@jupyter-widgets/base",
      "_model_module_version": "1.2.0",
      "_model_name": "LayoutModel",
      "_view_count": null,
      "_view_module": "@jupyter-widgets/base",
      "_view_module_version": "1.2.0",
      "_view_name": "LayoutView",
      "align_content": null,
      "align_items": null,
      "align_self": null,
      "border": null,
      "bottom": null,
      "display": null,
      "flex": null,
      "flex_flow": null,
      "grid_area": null,
      "grid_auto_columns": null,
      "grid_auto_flow": null,
      "grid_auto_rows": null,
      "grid_column": null,
      "grid_gap": null,
      "grid_row": null,
      "grid_template_areas": null,
      "grid_template_columns": null,
      "grid_template_rows": null,
      "height": null,
      "justify_content": null,
      "justify_items": null,
      "left": null,
      "margin": null,
      "max_height": null,
      "max_width": null,
      "min_height": null,
      "min_width": null,
      "object_fit": null,
      "object_position": null,
      "order": null,
      "overflow": null,
      "overflow_x": null,
      "overflow_y": null,
      "padding": null,
      "right": null,
      "top": null,
      "visibility": null,
      "width": null
     }
    },
    "d9b8a2fdfa9b45c486e5a1da576d889f": {
     "model_module": "@jupyter-widgets/controls",
     "model_module_version": "1.5.0",
     "model_name": "ProgressStyleModel",
     "state": {
      "_model_module": "@jupyter-widgets/controls",
      "_model_module_version": "1.5.0",
      "_model_name": "ProgressStyleModel",
      "_view_count": null,
      "_view_module": "@jupyter-widgets/base",
      "_view_module_version": "1.2.0",
      "_view_name": "StyleView",
      "bar_color": null,
      "description_width": ""
     }
    },
    "dd4ef1b7c2cf47528279ef14c6f6434e": {
     "model_module": "@jupyter-widgets/controls",
     "model_module_version": "1.5.0",
     "model_name": "FloatProgressModel",
     "state": {
      "_dom_classes": [],
      "_model_module": "@jupyter-widgets/controls",
      "_model_module_version": "1.5.0",
      "_model_name": "FloatProgressModel",
      "_view_count": null,
      "_view_module": "@jupyter-widgets/controls",
      "_view_module_version": "1.5.0",
      "_view_name": "ProgressView",
      "bar_style": "success",
      "description": "",
      "description_tooltip": null,
      "layout": "IPY_MODEL_7beae462463c46c4beb86b550099f57f",
      "max": 4422102,
      "min": 0,
      "orientation": "horizontal",
      "style": "IPY_MODEL_26a3920b88c047539f7d68f8bfb008a5",
      "value": 4422102
     }
    },
    "e08a808c425d48c7977a28864bbcc01f": {
     "model_module": "@jupyter-widgets/controls",
     "model_module_version": "1.5.0",
     "model_name": "DescriptionStyleModel",
     "state": {
      "_model_module": "@jupyter-widgets/controls",
      "_model_module_version": "1.5.0",
      "_model_name": "DescriptionStyleModel",
      "_view_count": null,
      "_view_module": "@jupyter-widgets/base",
      "_view_module_version": "1.2.0",
      "_view_name": "StyleView",
      "description_width": ""
     }
    },
    "e7df0331478a44698813c491551854b6": {
     "model_module": "@jupyter-widgets/base",
     "model_module_version": "1.2.0",
     "model_name": "LayoutModel",
     "state": {
      "_model_module": "@jupyter-widgets/base",
      "_model_module_version": "1.2.0",
      "_model_name": "LayoutModel",
      "_view_count": null,
      "_view_module": "@jupyter-widgets/base",
      "_view_module_version": "1.2.0",
      "_view_name": "LayoutView",
      "align_content": null,
      "align_items": null,
      "align_self": null,
      "border": null,
      "bottom": null,
      "display": null,
      "flex": null,
      "flex_flow": null,
      "grid_area": null,
      "grid_auto_columns": null,
      "grid_auto_flow": null,
      "grid_auto_rows": null,
      "grid_column": null,
      "grid_gap": null,
      "grid_row": null,
      "grid_template_areas": null,
      "grid_template_columns": null,
      "grid_template_rows": null,
      "height": null,
      "justify_content": null,
      "justify_items": null,
      "left": null,
      "margin": null,
      "max_height": null,
      "max_width": null,
      "min_height": null,
      "min_width": null,
      "object_fit": null,
      "object_position": null,
      "order": null,
      "overflow": null,
      "overflow_x": null,
      "overflow_y": null,
      "padding": null,
      "right": null,
      "top": null,
      "visibility": null,
      "width": null
     }
    },
    "ed20554746054c40a6fef096d24d7399": {
     "model_module": "@jupyter-widgets/controls",
     "model_module_version": "1.5.0",
     "model_name": "DescriptionStyleModel",
     "state": {
      "_model_module": "@jupyter-widgets/controls",
      "_model_module_version": "1.5.0",
      "_model_name": "DescriptionStyleModel",
      "_view_count": null,
      "_view_module": "@jupyter-widgets/base",
      "_view_module_version": "1.2.0",
      "_view_name": "StyleView",
      "description_width": ""
     }
    },
    "f17021d8f3a34e46a1b909e2fdf4abfd": {
     "model_module": "@jupyter-widgets/controls",
     "model_module_version": "1.5.0",
     "model_name": "DescriptionStyleModel",
     "state": {
      "_model_module": "@jupyter-widgets/controls",
      "_model_module_version": "1.5.0",
      "_model_name": "DescriptionStyleModel",
      "_view_count": null,
      "_view_module": "@jupyter-widgets/base",
      "_view_module_version": "1.2.0",
      "_view_name": "StyleView",
      "description_width": ""
     }
    },
    "fcde31dfbff6480697c1ee68d3e6092f": {
     "model_module": "@jupyter-widgets/controls",
     "model_module_version": "1.5.0",
     "model_name": "ProgressStyleModel",
     "state": {
      "_model_module": "@jupyter-widgets/controls",
      "_model_module_version": "1.5.0",
      "_model_name": "ProgressStyleModel",
      "_view_count": null,
      "_view_module": "@jupyter-widgets/base",
      "_view_module_version": "1.2.0",
      "_view_name": "StyleView",
      "bar_color": null,
      "description_width": ""
     }
    },
    "ffbe46a51e03475b9ae7ca4425caa199": {
     "model_module": "@jupyter-widgets/base",
     "model_module_version": "1.2.0",
     "model_name": "LayoutModel",
     "state": {
      "_model_module": "@jupyter-widgets/base",
      "_model_module_version": "1.2.0",
      "_model_name": "LayoutModel",
      "_view_count": null,
      "_view_module": "@jupyter-widgets/base",
      "_view_module_version": "1.2.0",
      "_view_name": "LayoutView",
      "align_content": null,
      "align_items": null,
      "align_self": null,
      "border": null,
      "bottom": null,
      "display": null,
      "flex": null,
      "flex_flow": null,
      "grid_area": null,
      "grid_auto_columns": null,
      "grid_auto_flow": null,
      "grid_auto_rows": null,
      "grid_column": null,
      "grid_gap": null,
      "grid_row": null,
      "grid_template_areas": null,
      "grid_template_columns": null,
      "grid_template_rows": null,
      "height": null,
      "justify_content": null,
      "justify_items": null,
      "left": null,
      "margin": null,
      "max_height": null,
      "max_width": null,
      "min_height": null,
      "min_width": null,
      "object_fit": null,
      "object_position": null,
      "order": null,
      "overflow": null,
      "overflow_x": null,
      "overflow_y": null,
      "padding": null,
      "right": null,
      "top": null,
      "visibility": null,
      "width": null
     }
    }
   }
  }
 },
 "nbformat": 4,
 "nbformat_minor": 1
}
