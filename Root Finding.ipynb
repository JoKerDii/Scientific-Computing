{
 "cells": [
  {
   "cell_type": "markdown",
   "id": "177e896d",
   "metadata": {},
   "source": [
    "# Root Finding\n",
    "\n",
    "### Table of Contents:\n",
    "\n",
    "1. [Fixed-point iteration](#first-bullet)\n",
    "2. [Newton's method](#second-bullet)\n",
    "3. [Secant method](#third-bullet)\n",
    "4. [Characteristics](#fourth-bullet)\n",
    "5. [Implementation and comparison](#fifth-bullet)\n"
   ]
  },
  {
   "cell_type": "markdown",
   "id": "7b9230fb",
   "metadata": {},
   "source": [
    "---"
   ]
  },
  {
   "cell_type": "markdown",
   "id": "cc86c475",
   "metadata": {},
   "source": [
    "## 1. Fixed-point iteration <a class=\"anchor\" id=\"first-bullet\"></a>\n",
    "\n",
    "Suppose we define an iteration\n",
    "\n",
    "$$\n",
    "x_{k+1} = g(x_k)\n",
    "$$\n",
    "\n",
    "If $\\alpha$ is a point such that $g(\\alpha) = \\alpha$, we call $\\alpha$ a fixed point of $g$.\n",
    "\n",
    "A fixed-point iteration terminates once a fixed point is reached, since if $g(x_k)= x_k$ then we get $x_{k+1} = x_k$.\n",
    "\n",
    "Also, if $x_{k+1}$ converges as $k \\rightarrow \\infty$, it must converge to a fixed point: Let $\\alpha = \\lim_{k \\rightarrow \\infty} x_k$, then\n",
    "\n",
    "$$\n",
    "\\alpha = \\lim_{k \\rightarrow \\infty} x_{k+1} = \\lim_{k \\rightarrow \\infty} g(x_k) = g\\left(\\lim_{k \\rightarrow \\infty} x_k\\right) = g(\\alpha)\n",
    "$$\n",
    "\n",
    "Hence, we need to guarantee that a fixed-point iteration will converge.\n"
   ]
  },
  {
   "cell_type": "markdown",
   "id": "492bb5a8",
   "metadata": {},
   "source": [
    "---"
   ]
  },
  {
   "cell_type": "markdown",
   "id": "0a662631",
   "metadata": {},
   "source": [
    "We can use **Lipschitz condition** to prove that the fixed point iteration converges to $\\alpha$.\n",
    "\n",
    "If $g $ satisfies a Lipschitz condition in an interval $[a,b]$ if $\\exists L \\in \\mathbb{R}_{>0}$ such that\n",
    "\n",
    "$$\n",
    "|g(x) - g(y)| \\leq L |x-y|, \\quad \\forall x,y \\in [a,b]\n",
    "$$\n",
    "\n",
    "$g$ is called a **contraction** if $L < 1$. Simply speaking, contraction takes two numbers and maps them close to each other.\n",
    "\n",
    "$$\n",
    "|x_k - \\alpha| = |g(x_{k-1}) - g(\\alpha)| \\leq L|x_{k-1} - \\alpha| \n",
    "$$\n",
    "\n",
    "which implies \n",
    "\n",
    "$$\n",
    "|x_k - \\alpha| \\leq L^k |x_0 - \\alpha|\n",
    "$$\n",
    "\n",
    "and since $L < 1$, $|x_k - \\alpha| \\rightarrow 0$ as $k \\rightarrow \\infty$. This shows that error decreases by factor of $L$ each iteration.\n",
    "\n",
    "Therefore, we define the rule of convergence of fixed-point iteration:\n",
    "\n",
    "> Suppose that $g(\\alpha) = \\alpha$ and that $g$ is a contraction on $[\\alpha - A, \\alpha + A]$. Suppose also that $|x_0 - \\alpha| \\leq A$. Then the fixed point iteration converges to $\\alpha$."
   ]
  },
  {
   "cell_type": "markdown",
   "id": "8ddb0fd4",
   "metadata": {},
   "source": [
    "---"
   ]
  },
  {
   "cell_type": "markdown",
   "id": "78871c21",
   "metadata": {},
   "source": [
    "We can verify convergence of a fixed-point iteration by checking the gradient of $g$, since if $g \\in C^1[a,b]$, we can obtain a Lipschitz constant based on $g'$:\n",
    "\n",
    "$$\n",
    "L = \\max_{\\theta \\in (a,b)} |g'(\\theta)|\n",
    "$$\n",
    "\n",
    "We want to check if $|g'(\\alpha)|<1$, i.e. if there is a neighborhood of $\\alpha$ on which $g$ is a contraction.\n",
    "\n",
    "Furthermore, as $k \\rightarrow \\infty$,\n",
    "\n",
    "$$\n",
    "{|x_{k+1} - \\alpha| \\over |x_k - \\alpha|} = {| g(x_k) - g(\\alpha)| \\over |x_k - \\alpha|} \\rightarrow |g'(\\alpha)|\n",
    "$$\n",
    "\n",
    "Hence, asymptotically, error decreases by a factor of $|g'(\\alpha)|$ each iteration.\n",
    "\n",
    "$|g'(\\alpha)|$ can be used to dictate the **asymptotic convergence rate**:\n",
    "\n",
    "We say an iteration converges **linearly** if, for some $\\mu \\in (0,1)$,\n",
    "\n",
    "$$\n",
    "\\lim_{k \\rightarrow \\infty} {|x_{k+1} - \\alpha| \\over |x_k - \\alpha|} = \\mu\n",
    "$$\n",
    "\n",
    "An iteration converges **superlinearly** if \n",
    "\n",
    "$$\n",
    "\\lim_{k \\rightarrow \\infty} {|x_{k+1} - \\alpha| \\over |x_k - \\alpha|} = 0\n",
    "$$"
   ]
  },
  {
   "cell_type": "markdown",
   "id": "c2f2e35e",
   "metadata": {},
   "source": [
    "---"
   ]
  },
  {
   "cell_type": "markdown",
   "id": "d52f8cbd",
   "metadata": {},
   "source": [
    "## 2. Newton's method <a class=\"anchor\" id=\"first-bullet\"></a>\n",
    "\n",
    "Consider the following fixed-point iteration\n",
    "\n",
    "$$\n",
    "x_{k+1} = x_k - \\lambda(x_k)f(x_k), \\quad k = 0,1,2,...\n",
    "$$\n",
    "\n",
    "corresponding to $g(x) = x - \\lambda(x_k) f(x_k)$, for some function $\\lambda$.\n",
    "\n",
    "We want to achieve a fixed point $\\alpha$ of $g$ such that $f(\\alpha) = 0$, and we also want $|g'(\\alpha)| = 0$ t get superlinear convergence.\n",
    "\n",
    "We take the first derivative and evaluate it at $f(\\alpha) = 0$:\n",
    "\n",
    "$$\n",
    "g'(\\alpha) = 1 - \\lambda'(\\alpha) f(\\alpha) - \\lambda(\\alpha) f'(\\alpha) = 1 - \\lambda(\\alpha) f'(\\alpha)\n",
    "$$\n",
    "\n",
    "To satisfy $|g'(\\alpha)| = 0$ we choose $\\lambda(x) = 1/f'(x)$ to get **Newton's Method**:\n",
    "\n",
    "$$\n",
    "x_{k+1} = x_k - {f(x_k)\\over f'(x_k)}, \\quad k = 0,1,2,...\n",
    "$$"
   ]
  },
  {
   "cell_type": "markdown",
   "id": "34c9c768",
   "metadata": {},
   "source": [
    "---"
   ]
  },
  {
   "cell_type": "markdown",
   "id": "48a1f804",
   "metadata": {},
   "source": [
    "To understand the superlinear convergence rate of Newton's Method, we apply **Taylor expansion** for $f(\\alpha)$ about $f(x_k)$:\n",
    "\n",
    "$$\n",
    "0 = f(\\alpha) = f(x_k) + (\\alpha - x_k) f'(x_k) + {(\\alpha - x_k)^2 \\over 2} f''(\\theta_k)\n",
    "$$\n",
    "\n",
    "for some $\\theta_k \\in (\\alpha , x_k)$. \n",
    "\n",
    "Dividing through by $f'(x_k)$ gives\n",
    "\n",
    "$$\n",
    "\\left(x_{k+1} - {f(x_k)\\over f'(x_k)}\\right) - \\alpha = {f''(\\theta_k)\\over 2f'(x_k)} (x_k - \\alpha)^2\n",
    "$$\n",
    "\n",
    "equivalently,\n",
    "\n",
    "$$\n",
    "x_{k+1} - \\alpha = {f''(\\theta_k)\\over 2f'(x_k)} (x_k - \\alpha)^2\n",
    "$$\n",
    "\n",
    "Hence, the error at iteration $k+1$ is the square of the error at each iteration $k$. This refers to as **quadratic convergence**. \n",
    "\n",
    "Note that this result relies on the second order Taylor expansion near $\\alpha$, we need to be **sufficiently close** to $\\alpha$ to get quadratic convergence."
   ]
  },
  {
   "cell_type": "markdown",
   "id": "45653958",
   "metadata": {},
   "source": [
    "---"
   ]
  },
  {
   "cell_type": "markdown",
   "id": "be4b0647",
   "metadata": {},
   "source": [
    "## 3. Secant method <a class=\"anchor\" id=\"first-bullet\"></a>\n",
    "\n",
    "\n",
    "Secant method uses finite difference to approximate $f'(x_k)$:\n",
    "\n",
    "$$\n",
    "f'(x_k) \\approx {f(x_k) - f(x_{k-1}) \\over x_k - x_{k-1}}\n",
    "$$\n",
    "\n",
    "Substituting this into the iteration leads to **Secant Method**:\n",
    "\n",
    "$$\n",
    "x_{k+1} = x_k - f(x_k)\\left({x_k - x_{k-1}\\over f(x_k) - f(x_{k-1})}\\right), \\quad k = 1,2,3...\n",
    "$$\n",
    "\n"
   ]
  },
  {
   "cell_type": "markdown",
   "id": "8762a052",
   "metadata": {},
   "source": [
    "The convergence rate fo Secant Method can be shown as\n",
    "\n",
    "$$\n",
    "\\lim_{k \\rightarrow \\infty} {|x_{k+1} - \\alpha| \\over |x_k - \\alpha|^q} = \\mu\n",
    "$$\n",
    "\n",
    "where $\\mu$ is a positive constant and $q$ is the golden ratio $q = {1+ \\sqrt{5} \\over 2} \\approx 1.6$.\n",
    "\n",
    "Thus, Secant Method has a **golden ratio quadratic rate** of convergence."
   ]
  },
  {
   "cell_type": "markdown",
   "id": "48432c55",
   "metadata": {},
   "source": [
    "---"
   ]
  },
  {
   "cell_type": "markdown",
   "id": "af003cf8",
   "metadata": {},
   "source": [
    "## 4. Characteristics <a class=\"anchor\" id=\"fourth-bullet\"></a>\n",
    "\n",
    "* **Fixed-point iteration**\n",
    "\n",
    "    * Sometimes need to re-write the function $f(x)=0$ as $x = g(x)$ to make sure $g(x)$ has an appropriate property.\n",
    "    \n",
    "* **Newton's Method**\n",
    "\n",
    "    * Quadratic convergence is very rapic.\n",
    "    * Requires to evaluate both $f(x_k)$ and $f'(x_k)$ per iteration.\n",
    "    \n",
    "* **Secant Method**\n",
    "\n",
    "    * Faster than fixted-point iteration, slower than Newton's Method.\n",
    "    * Does not require us to determine $f'(x)$ analytically.\n",
    "    * Requires only one extra function evaluation, $f(x_k)$, per iteration.\n",
    "    * When iterations become so close, we might get division by 0.\n",
    "    "
   ]
  },
  {
   "cell_type": "markdown",
   "id": "0c74e731",
   "metadata": {},
   "source": [
    "---"
   ]
  },
  {
   "cell_type": "markdown",
   "id": "f9698b32",
   "metadata": {},
   "source": [
    "## 5. Implementation and comparison <a class=\"anchor\" id=\"fifth-bullet\"></a>\n",
    "\n",
    "The following section compares how fixed-point interation, Newton's method and Secant method solve $f(x) = e^x - x -2 = 0$."
   ]
  },
  {
   "cell_type": "code",
   "execution_count": 1,
   "id": "975566e4",
   "metadata": {},
   "outputs": [
    {
     "name": "stdout",
     "output_type": "stream",
     "text": [
      "                2       3.389056099                 2       3.389056099                 2       3.389056099\n",
      "      1.469552928      0.8777382272       1.499485016      0.9798966489       1.386294361      0.6137056389\n",
      "      1.207329481      0.1372115734       1.295906562      0.3584007663       1.219736215      0.1665581464\n",
      "      1.148805629    0.005617477688       1.178508079      0.0710144738       1.169299435      0.0504367794\n",
      "      1.146198212   1.071354715e-05       1.149498374    0.007110700897       1.153510565     0.01578887016\n",
      "      1.146193221   3.919975455e-11       1.146270406   0.0001656637239       1.148516297    0.004994267732\n",
      "      1.146193221                 0       1.146193407   4.007691814e-07       1.146931325    0.001584972228\n",
      "      1.146193221                 0       1.146193221   2.267208643e-11       1.146427796   0.0005035296475\n",
      "      1.146193221                 0       1.146193221                 0       1.146267776   0.0001600193597\n"
     ]
    }
   ],
   "source": [
    "from math import *\n",
    "\n",
    "# f(x) = e^x-x-2\n",
    "def f(x):\n",
    "    return exp(x)-x-2\n",
    "\n",
    "# f'(x) = e^x-1\n",
    "def df(x):\n",
    "    return exp(x)-1\n",
    "\n",
    "startpt = 2\n",
    "\n",
    "# Newton method setup\n",
    "xa=startpt\n",
    "\n",
    "# Secant method setup\n",
    "xb=startpt\n",
    "\n",
    "# Fixed-point iteration setup\n",
    "xc=startpt\n",
    "\n",
    "# Initialize previous step x_{k-1} in secant method\n",
    "xbb=startpt + 0.1\n",
    "fxbb=f(xbb)\n",
    "\n",
    "# store\n",
    "xas = [xa]\n",
    "xbs = [xb]\n",
    "xcs = [xc]\n",
    "\n",
    "for k in range(30):\n",
    "\n",
    "    print(\"%17.10g %17.10g %17.10g %17.10g %17.10g %17.10g\" \\\n",
    "          %(xa,f(xa),xb,f(xb),xc,f(xc)))\n",
    "\n",
    "    # Newton\n",
    "    xa=xa-f(xa)/df(xa)\n",
    "    xas.append(xa)\n",
    "    \n",
    "    # Secant\n",
    "    fxb=f(xb)\n",
    "    tem=xb-fxb*(xb-xbb)/(fxb-fxbb)\n",
    "    xbb=xb;fxbb=fxb\n",
    "    xb=tem\n",
    "    xbs.append(xb)\n",
    "    \n",
    "    # Fixed point iteration\n",
    "    xc=log(xc+2)\n",
    "    xcs.append(xc)\n",
    "    \n",
    "    if xb-xbb == 0.0 and fxb-fxbb == 0.0:\n",
    "        break"
   ]
  },
  {
   "cell_type": "code",
   "execution_count": 2,
   "id": "7df959a7",
   "metadata": {},
   "outputs": [
    {
     "data": {
      "image/png": "[encoded data removed]",
      "text/plain": [
       "<Figure size 1200x640 with 1 Axes>"
      ]
     },
     "metadata": {
      "needs_background": "light"
     },
     "output_type": "display_data"
    }
   ],
   "source": [
    "import matplotlib.pyplot as plt\n",
    "import numpy as np\n",
    "\n",
    "domain = np.arange(0,len(xas), 1)\n",
    "plt.figure(figsize=(15, 8), dpi=80)\n",
    "plt.plot(domain,[f(x) for x in xas], label = \"Newton's Method\")\n",
    "plt.plot(domain,[f(x) for x in xbs], label = \"Secant Method\")\n",
    "plt.plot(domain,[f(x) for x in xcs], label = \"Fixed-point Iteration\")\n",
    "plt.ylabel('f(x)')\n",
    "plt.xlabel('x')\n",
    "plt.legend()\n",
    "plt.show()"
   ]
  }
 ],
 "metadata": {
  "kernelspec": {
   "display_name": "Python 3",
   "language": "python",
   "name": "python3"
  },
  "language_info": {
   "codemirror_mode": {
    "name": "ipython",
    "version": 3
   },
   "file_extension": ".py",
   "mimetype": "text/x-python",
   "name": "python",
   "nbconvert_exporter": "python",
   "pygments_lexer": "ipython3",
   "version": "3.8.8"
  }
 },
 "nbformat": 4,
 "nbformat_minor": 5
}
